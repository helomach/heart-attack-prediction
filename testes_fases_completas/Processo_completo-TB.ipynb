{
 "cells": [
  {
   "cell_type": "markdown",
   "id": "77d51a9f-91b6-4138-b9a5-28259a2b7663",
   "metadata": {},
   "source": [
    "# Teste completo\n",
    "\n",
    "## Fase 1:\n",
    "- Divisão treino/teste com `random_state=1024`\n",
    "- Normalização: z-score\n",
    "\n",
    "## Fase 2:\n",
    "- Balanceamento: smote\n",
    "\n",
    "## Fase 3:\n",
    "- Hiperparâmetros: pycaret\n",
    "    - Regressão Logística\n",
    "    - Floresta Aleatória\n"
   ]
  },
  {
   "cell_type": "code",
   "execution_count": null,
   "id": "13a781dd-5e6e-4078-95c7-f7097f8b6db8",
   "metadata": {},
   "outputs": [],
   "source": [
    "nome_teste =  \"TB\""
   ]
  },
  {
   "cell_type": "code",
   "execution_count": null,
   "id": "6007d077-01f5-41e0-a58b-6d9e55eb0338",
   "metadata": {},
   "outputs": [],
   "source": [
    "random_state = 1024"
   ]
  },
  {
   "cell_type": "code",
   "execution_count": null,
   "id": "72fd065b-5499-46e4-be6b-97423ba24813",
   "metadata": {},
   "outputs": [],
   "source": [
    "# Permite acesso ao GDrive"
   ]
  },
  {
   "cell_type": "code",
   "execution_count": null,
   "id": "84d8e775-cf95-48b0-9435-2ce22e4ce08f",
   "metadata": {},
   "outputs": [],
   "source": [
    "# Caminho do arquivo no GDrive\n",
    "path_base = ''\n",
    "#Onde salvar os arquivos temporários\n",
    "dir_data = f\"data_{nome_teste}\"\n",
    "dir_model = f\"model_{nome_teste}\""
   ]
  },
  {
   "cell_type": "markdown",
   "id": "7689ec9b-7efb-4824-9c4a-aef8a571233c",
   "metadata": {},
   "source": [
    "# Fase 1: Processamento dos Dados\n",
    "\n",
    "Este arquivo realiza o **pré-processamento** dos dados, preparando-os para as fases subsequentes de modelagem e análise. Abaixo está um resumo das principais etapas e funcionalidades implementadas nesta etapa.\n",
    "\n",
    "## Etapas do Processamento\n",
    "\n",
    "### 1. Importação das Bibliotecas\n",
    "As bibliotecas necessárias para o processamento dos dados são importadas no início do arquivo, como:\n",
    "- `pandas` para manipulação de dados\n",
    "- `numpy` para operações numéricas\n",
    "\n",
    "### 2. Carregamento do Dataset\n",
    "O arquivo carrega os dados a partir de um arquivo CSV utilizando `pandas`\n"
   ]
  },
  {
   "cell_type": "code",
   "execution_count": null,
   "id": "7d18ebdb-e83d-453a-984f-e2bd75233cd8",
   "metadata": {},
   "outputs": [],
   "source": []
  },
  {
   "cell_type": "code",
   "execution_count": null,
   "id": "335a77b5-88e1-4ab0-b351-dc5dce3ebd65",
   "metadata": {},
   "outputs": [],
   "source": [
    "import pandas as pd\n",
    "import numpy as np\n",
    "import matplotlib.pyplot as plt\n",
    "import os"
   ]
  },
  {
   "cell_type": "code",
   "execution_count": null,
   "id": "f48d147c-fb26-4447-b8b6-797eafd4d541",
   "metadata": {},
   "outputs": [],
   "source": [
    "#cria diretórios\n",
    "try:\n",
    "    os.mkdir(dir_data)\n",
    "    print(f\"Directory '{dir_data}' created successfully.\")\n",
    "except FileExistsError:\n",
    "    print(f\"Directory '{dir_data}' already exists.\")\n",
    "except PermissionError:\n",
    "    print(f\"Permission denied: Unable to create '{dir_data}'.\")\n",
    "except Exception as e:\n",
    "    print(f\"An error occurred: {e}\")\n",
    "try:\n",
    "    os.mkdir(dir_model)\n",
    "    print(f\"Directory '{dir_model}' created successfully.\")\n",
    "except FileExistsError:\n",
    "    print(f\"Directory '{dir_model}' already exists.\")\n",
    "except PermissionError:\n",
    "    print(f\"Permission denied: Unable to create '{dir_model}'.\")\n",
    "except Exception as e:\n",
    "    print(f\"An error occurred: {e}\")"
   ]
  },
  {
   "cell_type": "code",
   "execution_count": null,
   "id": "0d14e4a5-e2e6-44fa-98f0-4d28360d02d0",
   "metadata": {},
   "outputs": [],
   "source": [
    "data = pd.read_csv('../data/heart_2022_with_nans.csv')"
   ]
  },
  {
   "cell_type": "markdown",
   "id": "23ad585a-1cc4-46a9-9eaf-e83c4b081797",
   "metadata": {},
   "source": [
    "## Substituir valores nulos"
   ]
  },
  {
   "cell_type": "code",
   "execution_count": null,
   "id": "7000ff14-f4f8-4e9a-8674-04bb125cf6de",
   "metadata": {},
   "outputs": [],
   "source": [
    "# Substituir valores nulos nas variáveis numéricas pela média\n",
    "data.fillna(data.select_dtypes(include='number').mean(), inplace=True)\n",
    "\n",
    "# Substituir valores nulos nas variáveis categóricas pela moda\n",
    "data.fillna(data.select_dtypes(include='object').mode().iloc[0], inplace=True)"
   ]
  },
  {
   "cell_type": "markdown",
   "id": "b16ac10f-38f9-43c0-92b8-85e571bf71c9",
   "metadata": {},
   "source": [
    "## Transformação de variáveis categóricas em numéricas"
   ]
  },
  {
   "cell_type": "code",
   "execution_count": null,
   "id": "742d9146-c6df-4c85-a1d6-74563cd254fe",
   "metadata": {},
   "outputs": [],
   "source": [
    "# Cópia do dataframe\n",
    "data_copy = data.copy()\n",
    "data_copy.head()"
   ]
  },
  {
   "cell_type": "code",
   "execution_count": null,
   "id": "8049aebb-0f1b-4d81-9b05-29b03529697b",
   "metadata": {},
   "outputs": [],
   "source": [
    "# Lista de colunas de Sim ou Não a serem mapeadas\n",
    "yes_no_columns = [\n",
    "    'PhysicalActivities', 'HadHeartAttack', 'HadAngina', 'HadStroke',\n",
    "    'HadAsthma', 'HadSkinCancer', 'HadCOPD', 'HadDepressiveDisorder',\n",
    "    'HadKidneyDisease', 'HadArthritis', 'DeafOrHardOfHearing',\n",
    "    'BlindOrVisionDifficulty', 'DifficultyConcentrating',\n",
    "    'DifficultyWalking', 'DifficultyDressingBathing',\n",
    "    'DifficultyErrands', 'ChestScan', 'AlcoholDrinkers',\n",
    "    'HIVTesting', 'FluVaxLast12', 'PneumoVaxEver',\n",
    "    'HighRiskLastYear'\n",
    "]\n",
    "\n",
    "# Mapeando \"Yes\" para 1 e \"No\" para 0\n",
    "data_copy[yes_no_columns] = data_copy[yes_no_columns].replace({'Yes': 1, 'No': 0})  #.astype(int) para converter para inteiro após remoção de valores nulos"
   ]
  },
  {
   "cell_type": "code",
   "execution_count": null,
   "id": "629bed31-7831-4df5-8847-52186a287028",
   "metadata": {},
   "outputs": [],
   "source": [
    "# Dicionário de mapeamento coluna GeneralHealth\n",
    "health_mapping = {\n",
    "    'Excellent': 5,\n",
    "    'Very good': 4,\n",
    "    'Good': 3,\n",
    "    'Fair': 2,\n",
    "    'Poor': 1\n",
    "}\n",
    "\n",
    "data_copy['GeneralHealth'] = data_copy['GeneralHealth'].map(health_mapping)"
   ]
  },
  {
   "cell_type": "code",
   "execution_count": null,
   "id": "b412b5a8-8671-470b-a0ce-ddbe93cd365e",
   "metadata": {},
   "outputs": [],
   "source": [
    "# Mapeamento coluna Sex\n",
    "sex_mapping = {\n",
    "    'Male': 0,\n",
    "    'Female': 1\n",
    "}\n",
    "\n",
    "data_copy['Sex'] = data_copy['Sex'].map(sex_mapping)"
   ]
  },
  {
   "cell_type": "code",
   "execution_count": null,
   "id": "1baa54fa-edd9-4256-b239-eb05f45e89b7",
   "metadata": {},
   "outputs": [],
   "source": [
    "# Mapeamento coluna RemovedTeeth\n",
    "removed_teeth_mapping = {\n",
    "    'None of them': 0,\n",
    "    '1 to 5': 1,\n",
    "    '6 or more, but not all': 2,\n",
    "    'All': 3\n",
    "}\n",
    "\n",
    "data_copy['RemovedTeeth'] = data_copy['RemovedTeeth'].map(removed_teeth_mapping)"
   ]
  },
  {
   "cell_type": "code",
   "execution_count": null,
   "id": "c33b5402-b862-4b41-92ff-fd4509e1635c",
   "metadata": {},
   "outputs": [],
   "source": [
    "# Mapeamento coluna AgeCategory\n",
    "age_mapping = {\n",
    "    'Age 18 to 24': 0,\n",
    "    'Age 25 to 29': 1,\n",
    "    'Age 30 to 34': 2,\n",
    "    'Age 35 to 39': 3,\n",
    "    'Age 40 to 44': 4,\n",
    "    'Age 45 to 49': 5,\n",
    "    'Age 50 to 54': 6,\n",
    "    'Age 55 to 59': 7,\n",
    "    'Age 60 to 64': 8,\n",
    "    'Age 65 to 69': 9,\n",
    "    'Age 70 to 74': 10,\n",
    "    'Age 75 to 79': 11,\n",
    "    'Age 80 or older': 12\n",
    "}\n",
    "\n",
    "data_copy['AgeCategory'] = data_copy['AgeCategory'].map(age_mapping)"
   ]
  },
  {
   "cell_type": "code",
   "execution_count": null,
   "id": "17df03a0-2951-4e09-8a28-c4467c786f57",
   "metadata": {},
   "outputs": [],
   "source": [
    "# Mapeamento coluna TetanusLast10Tdap\n",
    "tetanus_mapping = {\n",
    "    'No, did not receive any tetanus shot in the past 10 years': 0,\n",
    "    'Yes, received tetanus shot but not sure what type': 1,\n",
    "    'Yes, received Tdap': 2,\n",
    "    'Yes, received tetanus shot, but not Tdap': 3\n",
    "}\n",
    "\n",
    "data_copy['TetanusLast10Tdap'] = data_copy['TetanusLast10Tdap'].map(tetanus_mapping)"
   ]
  },
  {
   "cell_type": "code",
   "execution_count": null,
   "id": "da7f1678-3a7d-47b1-bda3-4286e51d345c",
   "metadata": {},
   "outputs": [],
   "source": [
    "# Mapeamento da coluna LastCheckupTime\n",
    "checkup_mapping = {\n",
    "    \"Within past year (anytime less than 12 months ago)\": 0,\n",
    "    \"Within past 2 years (1 year but less than 2 years ago)\": 1,\n",
    "    \"Within past 5 years (2 years but less than 5 years ago)\": 2,\n",
    "    \"5 or more years ago\": 3\n",
    "}\n",
    "\n",
    "# Aplicar o mapeamento à coluna LastCheckupTime\n",
    "data_copy['LastCheckupTime'] = data_copy['LastCheckupTime'].map(checkup_mapping)"
   ]
  },
  {
   "cell_type": "code",
   "execution_count": null,
   "id": "735b4e66-5d39-42a0-bf59-8aa8778232e2",
   "metadata": {},
   "outputs": [],
   "source": [
    "# Aplicar one-hot encoding\n",
    "data_copy = pd.get_dummies(data_copy, columns=['SmokerStatus', 'ECigaretteUsage', 'RaceEthnicityCategory', 'CovidPos', 'HadDiabetes'], drop_first=True, dtype='int')"
   ]
  },
  {
   "cell_type": "code",
   "execution_count": null,
   "id": "49ccf941-4c23-45cf-88ad-117be0ff71eb",
   "metadata": {},
   "outputs": [],
   "source": [
    "if 'State' in data_copy.columns:\n",
    "  data_copy = data_copy.drop('State', axis=1)"
   ]
  },
  {
   "cell_type": "code",
   "execution_count": null,
   "id": "72f7db05-70bc-41df-a448-acb95cea8dcb",
   "metadata": {},
   "outputs": [],
   "source": [
    "data_copy.to_csv(f'{dir_data}/Fase1-output_processed_data.csv', index=False)"
   ]
  },
  {
   "cell_type": "markdown",
   "id": "ff61d138-4532-468e-ab9a-946e20fe6a5b",
   "metadata": {},
   "source": [
    "### Normalização"
   ]
  },
  {
   "cell_type": "code",
   "execution_count": null,
   "id": "3d1cdbb4-4313-4437-8dfc-b7b3ef57ea44",
   "metadata": {},
   "outputs": [],
   "source": [
    "df = pd.read_csv(f'{dir_data}/Fase1-output_processed_data.csv')"
   ]
  },
  {
   "cell_type": "markdown",
   "id": "7156e129-cd2b-4269-ac9d-88ad7dadbf7c",
   "metadata": {},
   "source": [
    "#### Normalização com z-score"
   ]
  },
  {
   "cell_type": "code",
   "execution_count": null,
   "id": "ef5c23db-52e0-4188-a6ea-98d530fd6302",
   "metadata": {},
   "outputs": [],
   "source": [
    "# apply normalization techniques \n",
    "for column in df.columns: \n",
    "    df[column] = (df[column] - df[column].mean()) / df[column].std()    "
   ]
  },
  {
   "cell_type": "code",
   "execution_count": null,
   "id": "ebd9a8b7-2532-4be6-99af-3d9fadcb7dc9",
   "metadata": {},
   "outputs": [],
   "source": [
    "data_copy.to_csv(f'{dir_data}/Fase1-output_processed_data_normalized.csv', index=False)"
   ]
  },
  {
   "cell_type": "markdown",
   "id": "318ca063-1110-491c-878b-bd5e24f3ec40",
   "metadata": {
    "jp-MarkdownHeadingCollapsed": true
   },
   "source": [
    "# Fase 2: Divisão dos Dados\n",
    "Este arquivo realiza a **divisão dos dados**, preparando-os para as fases subsequentes de modelagem e treinamento dos algoritmos de aprendizado de máquina. Abaixo está um resumo das principais etapas e funcionalidades implementadas nesta fase.\n",
    "\n",
    "## Etapas da Divisão dos Dados\n",
    "\n",
    "### 1. Importação das Bibliotecas\n",
    "As bibliotecas necessárias para a criação e avaliação dos modelos são importadas, como:\n",
    "- `pandas` para manipulação de dados\n",
    "- `sklearn.model_selection` para a função train_test_split, que realiza a divisão dos dados\n",
    "\n",
    "### 2. Definição das Variáveis Independentes e Dependentes\n",
    "As variáveis são definidas para a divisão:\n",
    "\n",
    "- `X`: Contém as variáveis independentes, ou seja, todas as colunas exceto a variável alvo.\n",
    "- `y`: Contém a variável dependente, que neste caso é a coluna que indica se houve um ataque cardíaco `HadHeartAttack`.\n",
    "\n",
    "### 3. Divisão dos Dados\n",
    " Os dados são divididos em conjuntos de treino e teste para avaliar o desempenho dos modelos. Esta divisão é realizada utilizando a função `train_test_split` do sklearn.\n",
    "\n",
    "- `Treino (X_train, y_train)`: Usado para treinar os modelos.\n",
    "- `Teste (X_test, y_test)`: Usado para avaliar a performance do modelo."
   ]
  },
  {
   "cell_type": "code",
   "execution_count": null,
   "id": "5c32c040-d984-4f75-a7af-8ca6154ba519",
   "metadata": {},
   "outputs": [],
   "source": [
    "import pandas as pd\n",
    "from sklearn.model_selection import train_test_split\n",
    "import joblib\n",
    "import seaborn as sns\n",
    "import matplotlib.pyplot as plt"
   ]
  },
  {
   "cell_type": "code",
   "execution_count": null,
   "id": "be2bf543-d52f-40d3-bafe-0ae64917752e",
   "metadata": {},
   "outputs": [],
   "source": [
    "data = pd.read_csv(f'{dir_data}/Fase1-output_processed_data_normalized.csv')"
   ]
  },
  {
   "cell_type": "code",
   "execution_count": null,
   "id": "e363e550-4954-47cb-b3a8-8c8bae40c639",
   "metadata": {},
   "outputs": [],
   "source": [
    "# Definir as variáveis independentes (X) e dependentes (y)\n",
    "X = data.drop(columns=['HadHeartAttack'])  # Todas as colunas exceto a variável alvo\n",
    "y = data['HadHeartAttack']  # A variável alvo"
   ]
  },
  {
   "cell_type": "code",
   "execution_count": null,
   "id": "fcf46dec-24c2-4265-b40d-fc52f924a318",
   "metadata": {},
   "outputs": [],
   "source": [
    "# Dividir os dados em conjunto de treino e teste\n",
    "X_train, X_test, y_train, y_test = train_test_split(X, y, test_size=0.2, random_state=42)"
   ]
  },
  {
   "cell_type": "code",
   "execution_count": null,
   "id": "524c1d9d-51fe-4dfb-8edb-37bde7cbc10f",
   "metadata": {},
   "outputs": [],
   "source": [
    "# Salvar os dados divididos\n",
    "save_to = f'{dir_data}/Fase2-output_data_splits.pkl'\n",
    "joblib.dump((X_train, X_test, y_train, y_test), save_to)\n",
    "print(f\"Dados divididos salvos em {save_to}\")"
   ]
  },
  {
   "cell_type": "code",
   "execution_count": null,
   "id": "61aa68da-eeac-46e8-be6a-d093faa226e4",
   "metadata": {},
   "outputs": [],
   "source": [
    "# Salvar os dados de teste\n",
    "save_to = f'{dir_data}/Fase2-output_data_test.pkl'\n",
    "joblib.dump((X_test, y_test), save_to)\n",
    "print(f\"Dados de teste salvos em {save_to}\")"
   ]
  },
  {
   "cell_type": "code",
   "execution_count": null,
   "id": "f8364411-5742-40ec-8341-dbbc3e8a64bc",
   "metadata": {},
   "outputs": [],
   "source": [
    "sns.countplot(x=y_train)\n",
    "plt.show()\n",
    "\n",
    "# Ver proporção das classes\n",
    "print(y_train.value_counts(normalize=True))"
   ]
  },
  {
   "cell_type": "markdown",
   "id": "2d545678-23d7-4b70-9c89-2305f29f7bcf",
   "metadata": {},
   "source": [
    "# Fase 3 - Balanceamento dos Dados\n",
    "\n",
    "Este arquivo implementa o balanceamento das classes da variável-alvo para evitar que o modelo de aprendizado de máquina se torne enviesado para a classe majoritária. Para isso, foi utilizado o SMOTE (Synthetic Minority Over-sampling Technique), uma técnica que cria amostras sintéticas da classe minoritária, equilibrando assim a distribuição das classes no conjunto de dados.\n",
    "\n",
    "## Etapas do Balanceamento dos Dados\n",
    "\n",
    "### 1. **Carregamento dos Dados**  \n",
    "O conjunto de dados de treino é carregado a partir do arquivo salvo na fase anterior, possibilitando a continuação do fluxo de preparação.\n",
    "\n",
    "### 2. **Aplicação do SMOTE para Balanceamento das Classes**\n",
    "Foi utilizado o SMOTE para gerar amostras sintéticas da classe minoritária no conjunto de treino. Essa técnica ajuda a balancear as classes, evitando que o modelo aprenda de forma enviesada para a classe mais frequente\n",
    "\n",
    "### 3. **Verificação das Proporções das Classes**\n",
    "Após a aplicação do SMOTE, foi exibido as novas proporções das classes no conjunto de dados de treino para confirmar o balanceamento\n",
    "\n",
    "### 4. Salvando Dados Balanceados\n",
    "Por fim, os dados balanceados são salvos em um arquivo para serem utilizados na próxima fase de treinamento e teste dos modelos."
   ]
  },
  {
   "cell_type": "code",
   "execution_count": null,
   "id": "7061892f-3507-46bc-ac6f-52d801d63be0",
   "metadata": {},
   "outputs": [],
   "source": [
    "import pandas as pd\n",
    "from imblearn.over_sampling import SMOTE\n",
    "import joblib"
   ]
  },
  {
   "cell_type": "code",
   "execution_count": null,
   "id": "9a7c7e3c-fd98-4855-b70e-d6e9957ff48e",
   "metadata": {},
   "outputs": [],
   "source": [
    "# Carregar os dados de treino e teste\n",
    "X_train, X_test, y_train, y_test = joblib.load(f'{dir_data}/Fase2-output_data_splits.pkl')\n",
    "\n",
    "# Aplicar SMOTE\n",
    "smote = SMOTE(random_state=random_state)\n",
    "X_resampled, y_resampled = smote.fit_resample(X_train, y_train)\n",
    "\n",
    "# Exibir as novas proporções\n",
    "print(\"Proporções após SMOTE:\")\n",
    "print(y_resampled.value_counts(normalize=True))\n",
    "\n",
    "# Salvar os dados reamostrados\n",
    "joblib.dump((X_resampled, y_resampled), f'{dir_data}/Fase3-output_data_resampled.pkl')"
   ]
  },
  {
   "cell_type": "code",
   "execution_count": null,
   "id": "2a1b1fec-fd3b-429f-80ff-a3f480d2ab9a",
   "metadata": {},
   "outputs": [],
   "source": [
    "!date"
   ]
  },
  {
   "cell_type": "code",
   "execution_count": null,
   "id": "10f154ea-d135-4f08-bc48-3ae0f75a1bbf",
   "metadata": {},
   "outputs": [],
   "source": [
    "from pycaret.classification import setup\n",
    "from pycaret.classification import compare_models\n",
    "from pycaret.classification import automl\n",
    "from pycaret.classification import tune_model\n",
    "\n",
    "import joblib\n",
    "from tqdm.notebook import tqdm\n",
    "import pandas as pd"
   ]
  },
  {
   "cell_type": "code",
   "execution_count": null,
   "id": "d1b07fc6-ff5f-49fe-a0ef-7d70032fcf5e",
   "metadata": {},
   "outputs": [],
   "source": [
    "# Carregar os dados de treino balanceados\n",
    "# X_resampled, y_resampled = joblib.load('/content/drive/MyDrive/Orientacoes/Orientacoes/2024/Heloisa/data/Fase3-output_data_resampled.pkl')\n",
    "X_resampled, y_resampled = joblib.load(f'{dir_data}/Fase3-output_data_resampled.pkl')\n",
    "\n",
    "# Carregar os dados de teste\n",
    "# X_test, y_test = joblib.load('/content/drive/MyDrive/Orientacoes/Orientacoes/2024/Heloisa/data/Fase2-output_data_test.pkl')\n",
    "X_test, y_test = joblib.load(f'{dir_data}/Fase2-output_data_test.pkl')\n",
    "\n",
    "# Concatena a base de treino em um único dataframe\n",
    "train_data = pd.concat([X_resampled, y_resampled], axis=1)\n",
    "\n",
    "# Concatena a base de teste em um único dataframe\n",
    "test_data = pd.concat([X_test, y_test], axis=1)\n",
    "\n",
    "# Concatena tudo em uma única base\n",
    "data = pd.concat([train_data, test_data], ignore_index=True)"
   ]
  },
  {
   "cell_type": "code",
   "execution_count": null,
   "id": "dbcfdd74-b832-4e98-86b4-9ec7b243748e",
   "metadata": {},
   "outputs": [],
   "source": [
    "train_data_pycaret = setup(data = train_data, target = 'HadHeartAttack', use_gpu=False)"
   ]
  },
  {
   "cell_type": "code",
   "execution_count": null,
   "id": "e5d4be1c-d3ac-449c-9d9f-0c0344156c3e",
   "metadata": {},
   "outputs": [],
   "source": [
    "%%time\n",
    "models = compare_models(include = ['rf', 'lr'])"
   ]
  },
  {
   "cell_type": "code",
   "execution_count": null,
   "id": "34fc3965-3050-4b7a-a3d7-71fca408d85b",
   "metadata": {},
   "outputs": [],
   "source": [
    "%%time\n",
    "#Picking the winner\n",
    "best_model = automl(optimize = 'Accuracy')\n",
    "\n",
    "#Fine-tuning the best model\n",
    "tuned_best_model = tune_model(best_model)"
   ]
  },
  {
   "cell_type": "code",
   "execution_count": null,
   "id": "33568a6f-52a4-4e2e-b894-11cb2ac0f267",
   "metadata": {},
   "outputs": [],
   "source": [
    "best_model\n"
   ]
  },
  {
   "cell_type": "code",
   "execution_count": null,
   "id": "df9f36cd-8781-41dd-be01-98abc8b3aadf",
   "metadata": {},
   "outputs": [],
   "source": [
    "print(\"Fim.\")"
   ]
  },
  {
   "cell_type": "code",
   "execution_count": null,
   "id": "fe3fb209-91db-4a83-ab72-06bc921a6ac1",
   "metadata": {},
   "outputs": [],
   "source": [
    "!date"
   ]
  },
  {
   "cell_type": "markdown",
   "id": "f70f1577-1549-4e26-b7f7-f6da11c07a47",
   "metadata": {},
   "source": [
    "## Teste do modelo com os dados de teste"
   ]
  },
  {
   "cell_type": "code",
   "execution_count": null,
   "id": "fa916c09-bf3f-4e9a-8540-a2b61021c9b2",
   "metadata": {},
   "outputs": [],
   "source": [
    "# Testa o modelo com os dados de teste\n",
    "from pycaret.classification import predict_model\n",
    "from pycaret.classification import plot_model\n",
    "from sklearn.metrics import confusion_matrix\n",
    "y_predict = predict_model(best_model, data=X_test)"
   ]
  },
  {
   "cell_type": "markdown",
   "id": "50665355-a7a3-471c-a664-3e468af35647",
   "metadata": {},
   "source": [
    "### Matriz de confusão"
   ]
  },
  {
   "cell_type": "code",
   "execution_count": null,
   "id": "2f8a0d05-6e2a-4abc-923d-355bdc203880",
   "metadata": {},
   "outputs": [],
   "source": [
    "cm = confusion_matrix(y_test, y_predict['prediction_label'])"
   ]
  },
  {
   "cell_type": "code",
   "execution_count": null,
   "id": "6bde4820-f1a4-4b8b-8225-0dd09eeabf13",
   "metadata": {},
   "outputs": [],
   "source": [
    "df_cm = pd.DataFrame(cm)\n",
    "df_cm['total'] = df_cm[0] + df_cm[1]\n",
    "df_cm['percent_0'] = df_cm[0] / df_cm['total'] * 100\n",
    "df_cm['percent_1'] = df_cm[1] / df_cm['total'] * 100\n",
    "df_cm.round(2)"
   ]
  },
  {
   "cell_type": "markdown",
   "id": "69ee6d66-f1a9-4c78-bba3-de9bb0df19b3",
   "metadata": {},
   "source": [
    "### Salvando o modelo"
   ]
  },
  {
   "cell_type": "code",
   "execution_count": null,
   "id": "0df81db1-6f29-4a28-b582-82184b8eabbe",
   "metadata": {},
   "outputs": [],
   "source": [
    "from pycaret.classification import save_model\n",
    "from pycaret.classification import load_model"
   ]
  },
  {
   "cell_type": "code",
   "execution_count": null,
   "id": "55b5c88f-b126-4b1e-b519-9225ff39c2de",
   "metadata": {},
   "outputs": [],
   "source": [
    "#Salvando o modelo\n",
    "\n",
    "save_model(best_model, f'{dir_model}/best_model')"
   ]
  },
  {
   "cell_type": "code",
   "execution_count": null,
   "id": "da40b485-53ba-4937-bdc7-25f317ea1af2",
   "metadata": {},
   "outputs": [],
   "source": [
    "# functional API\n",
    "loaded_model = load_model(f'{dir_model}/best_model')\n",
    "print(loaded_model)"
   ]
  },
  {
   "cell_type": "markdown",
   "id": "b07fa111-2c97-4fd5-bd8b-3428025005f8",
   "metadata": {},
   "source": [
    "## Feature importance"
   ]
  },
  {
   "cell_type": "code",
   "execution_count": null,
   "id": "1a87989b-a700-42e5-beb5-ce95d53bac7d",
   "metadata": {},
   "outputs": [],
   "source": [
    "plot_model(best_model, plot='feature')"
   ]
  },
  {
   "cell_type": "code",
   "execution_count": null,
   "id": "ae81e5bb-2fd1-4805-aedd-c10a016fc707",
   "metadata": {},
   "outputs": [],
   "source": []
  }
 ],
 "metadata": {
  "jupytext": {
   "formats": "ipynb,py:percent"
  },
  "kernelspec": {
   "display_name": "Python 3 (ipykernel)",
   "language": "python",
   "name": "python3"
  },
  "language_info": {
   "codemirror_mode": {
    "name": "ipython",
    "version": 3
   },
   "file_extension": ".py",
   "mimetype": "text/x-python",
   "name": "python",
   "nbconvert_exporter": "python",
   "pygments_lexer": "ipython3",
   "version": "3.9.12"
  }
 },
 "nbformat": 4,
 "nbformat_minor": 5
}
