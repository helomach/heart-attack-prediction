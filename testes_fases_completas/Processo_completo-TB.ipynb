{
 "cells": [
  {
   "cell_type": "markdown",
   "id": "77d51a9f-91b6-4138-b9a5-28259a2b7663",
   "metadata": {},
   "source": [
    "# Teste completo\n",
    "\n",
    "## Fase 1:\n",
    "- Divisão treino/teste com `random_state=1024`\n",
    "- Normalização: z-score\n",
    "\n",
    "## Fase 2:\n",
    "- Balanceamento: smote\n",
    "\n",
    "## Fase 3:\n",
    "- Hiperparâmetros: pycaret\n",
    "    - Regressão Logística\n",
    "    - Floresta Aleatória\n"
   ]
  },
  {
   "cell_type": "code",
   "execution_count": 1,
   "id": "13a781dd-5e6e-4078-95c7-f7097f8b6db8",
   "metadata": {},
   "outputs": [],
   "source": [
    "nome_teste =  \"TB\""
   ]
  },
  {
   "cell_type": "code",
   "execution_count": 2,
   "id": "6007d077-01f5-41e0-a58b-6d9e55eb0338",
   "metadata": {},
   "outputs": [],
   "source": [
    "random_state = 1024"
   ]
  },
  {
   "cell_type": "code",
   "execution_count": 3,
   "id": "72fd065b-5499-46e4-be6b-97423ba24813",
   "metadata": {},
   "outputs": [],
   "source": [
    "# Permite acesso ao GDrive"
   ]
  },
  {
   "cell_type": "code",
   "execution_count": 4,
   "id": "84d8e775-cf95-48b0-9435-2ce22e4ce08f",
   "metadata": {},
   "outputs": [],
   "source": [
    "# Caminho do arquivo no GDrive\n",
    "path_base = ''\n",
    "#Onde salvar os arquivos temporários\n",
    "dir_data = f\"data_{nome_teste}\"\n",
    "dir_model = f\"model_{nome_teste}\""
   ]
  },
  {
   "cell_type": "markdown",
   "id": "7689ec9b-7efb-4824-9c4a-aef8a571233c",
   "metadata": {},
   "source": [
    "# Fase 1: Processamento dos Dados\n",
    "\n",
    "Este arquivo realiza o **pré-processamento** dos dados, preparando-os para as fases subsequentes de modelagem e análise. Abaixo está um resumo das principais etapas e funcionalidades implementadas nesta etapa.\n",
    "\n",
    "## Etapas do Processamento\n",
    "\n",
    "### 1. Importação das Bibliotecas\n",
    "As bibliotecas necessárias para o processamento dos dados são importadas no início do arquivo, como:\n",
    "- `pandas` para manipulação de dados\n",
    "- `numpy` para operações numéricas\n",
    "\n",
    "### 2. Carregamento do Dataset\n",
    "O arquivo carrega os dados a partir de um arquivo CSV utilizando `pandas`\n"
   ]
  },
  {
   "cell_type": "code",
   "execution_count": null,
   "id": "7d18ebdb-e83d-453a-984f-e2bd75233cd8",
   "metadata": {},
   "outputs": [],
   "source": []
  },
  {
   "cell_type": "code",
   "execution_count": 5,
   "id": "335a77b5-88e1-4ab0-b351-dc5dce3ebd65",
   "metadata": {},
   "outputs": [],
   "source": [
    "import pandas as pd\n",
    "import numpy as np\n",
    "import matplotlib.pyplot as plt\n",
    "import os"
   ]
  },
  {
   "cell_type": "code",
   "execution_count": 6,
   "id": "f48d147c-fb26-4447-b8b6-797eafd4d541",
   "metadata": {},
   "outputs": [
    {
     "name": "stdout",
     "output_type": "stream",
     "text": [
      "Directory 'data_TB' created successfully.\n",
      "Directory 'model_TB' created successfully.\n"
     ]
    }
   ],
   "source": [
    "#cria diretórios\n",
    "try:\n",
    "    os.mkdir(dir_data)\n",
    "    print(f\"Directory '{dir_data}' created successfully.\")\n",
    "except FileExistsError:\n",
    "    print(f\"Directory '{dir_data}' already exists.\")\n",
    "except PermissionError:\n",
    "    print(f\"Permission denied: Unable to create '{dir_data}'.\")\n",
    "except Exception as e:\n",
    "    print(f\"An error occurred: {e}\")\n",
    "try:\n",
    "    os.mkdir(dir_model)\n",
    "    print(f\"Directory '{dir_model}' created successfully.\")\n",
    "except FileExistsError:\n",
    "    print(f\"Directory '{dir_model}' already exists.\")\n",
    "except PermissionError:\n",
    "    print(f\"Permission denied: Unable to create '{dir_model}'.\")\n",
    "except Exception as e:\n",
    "    print(f\"An error occurred: {e}\")"
   ]
  },
  {
   "cell_type": "code",
   "execution_count": 7,
   "id": "0d14e4a5-e2e6-44fa-98f0-4d28360d02d0",
   "metadata": {},
   "outputs": [],
   "source": [
    "data = pd.read_csv('../data/heart_2022_with_nans.csv')"
   ]
  },
  {
   "cell_type": "markdown",
   "id": "23ad585a-1cc4-46a9-9eaf-e83c4b081797",
   "metadata": {},
   "source": [
    "## Substituir valores nulos"
   ]
  },
  {
   "cell_type": "code",
   "execution_count": 8,
   "id": "7000ff14-f4f8-4e9a-8674-04bb125cf6de",
   "metadata": {},
   "outputs": [],
   "source": [
    "# Substituir valores nulos nas variáveis numéricas pela média\n",
    "data.fillna(data.select_dtypes(include='number').mean(), inplace=True)\n",
    "\n",
    "# Substituir valores nulos nas variáveis categóricas pela moda\n",
    "data.fillna(data.select_dtypes(include='object').mode().iloc[0], inplace=True)"
   ]
  },
  {
   "cell_type": "markdown",
   "id": "b16ac10f-38f9-43c0-92b8-85e571bf71c9",
   "metadata": {},
   "source": [
    "## Transformação de variáveis categóricas em numéricas"
   ]
  },
  {
   "cell_type": "code",
   "execution_count": 9,
   "id": "742d9146-c6df-4c85-a1d6-74563cd254fe",
   "metadata": {},
   "outputs": [
    {
     "data": {
      "text/html": [
       "<div>\n",
       "<style scoped>\n",
       "    .dataframe tbody tr th:only-of-type {\n",
       "        vertical-align: middle;\n",
       "    }\n",
       "\n",
       "    .dataframe tbody tr th {\n",
       "        vertical-align: top;\n",
       "    }\n",
       "\n",
       "    .dataframe thead th {\n",
       "        text-align: right;\n",
       "    }\n",
       "</style>\n",
       "<table border=\"1\" class=\"dataframe\">\n",
       "  <thead>\n",
       "    <tr style=\"text-align: right;\">\n",
       "      <th></th>\n",
       "      <th>State</th>\n",
       "      <th>Sex</th>\n",
       "      <th>GeneralHealth</th>\n",
       "      <th>PhysicalHealthDays</th>\n",
       "      <th>MentalHealthDays</th>\n",
       "      <th>LastCheckupTime</th>\n",
       "      <th>PhysicalActivities</th>\n",
       "      <th>SleepHours</th>\n",
       "      <th>RemovedTeeth</th>\n",
       "      <th>HadHeartAttack</th>\n",
       "      <th>...</th>\n",
       "      <th>HeightInMeters</th>\n",
       "      <th>WeightInKilograms</th>\n",
       "      <th>BMI</th>\n",
       "      <th>AlcoholDrinkers</th>\n",
       "      <th>HIVTesting</th>\n",
       "      <th>FluVaxLast12</th>\n",
       "      <th>PneumoVaxEver</th>\n",
       "      <th>TetanusLast10Tdap</th>\n",
       "      <th>HighRiskLastYear</th>\n",
       "      <th>CovidPos</th>\n",
       "    </tr>\n",
       "  </thead>\n",
       "  <tbody>\n",
       "    <tr>\n",
       "      <th>0</th>\n",
       "      <td>Alabama</td>\n",
       "      <td>Female</td>\n",
       "      <td>Very good</td>\n",
       "      <td>0.0</td>\n",
       "      <td>0.0</td>\n",
       "      <td>Within past year (anytime less than 12 months ...</td>\n",
       "      <td>No</td>\n",
       "      <td>8.0</td>\n",
       "      <td>None of them</td>\n",
       "      <td>No</td>\n",
       "      <td>...</td>\n",
       "      <td>1.702691</td>\n",
       "      <td>83.07447</td>\n",
       "      <td>28.529842</td>\n",
       "      <td>No</td>\n",
       "      <td>No</td>\n",
       "      <td>Yes</td>\n",
       "      <td>No</td>\n",
       "      <td>Yes, received tetanus shot but not sure what type</td>\n",
       "      <td>No</td>\n",
       "      <td>No</td>\n",
       "    </tr>\n",
       "    <tr>\n",
       "      <th>1</th>\n",
       "      <td>Alabama</td>\n",
       "      <td>Female</td>\n",
       "      <td>Excellent</td>\n",
       "      <td>0.0</td>\n",
       "      <td>0.0</td>\n",
       "      <td>Within past year (anytime less than 12 months ...</td>\n",
       "      <td>No</td>\n",
       "      <td>6.0</td>\n",
       "      <td>None of them</td>\n",
       "      <td>No</td>\n",
       "      <td>...</td>\n",
       "      <td>1.600000</td>\n",
       "      <td>68.04000</td>\n",
       "      <td>26.570000</td>\n",
       "      <td>No</td>\n",
       "      <td>No</td>\n",
       "      <td>No</td>\n",
       "      <td>No</td>\n",
       "      <td>No, did not receive any tetanus shot in the pa...</td>\n",
       "      <td>No</td>\n",
       "      <td>No</td>\n",
       "    </tr>\n",
       "    <tr>\n",
       "      <th>2</th>\n",
       "      <td>Alabama</td>\n",
       "      <td>Female</td>\n",
       "      <td>Very good</td>\n",
       "      <td>2.0</td>\n",
       "      <td>3.0</td>\n",
       "      <td>Within past year (anytime less than 12 months ...</td>\n",
       "      <td>Yes</td>\n",
       "      <td>5.0</td>\n",
       "      <td>None of them</td>\n",
       "      <td>No</td>\n",
       "      <td>...</td>\n",
       "      <td>1.570000</td>\n",
       "      <td>63.50000</td>\n",
       "      <td>25.610000</td>\n",
       "      <td>No</td>\n",
       "      <td>No</td>\n",
       "      <td>No</td>\n",
       "      <td>No</td>\n",
       "      <td>No, did not receive any tetanus shot in the pa...</td>\n",
       "      <td>No</td>\n",
       "      <td>Yes</td>\n",
       "    </tr>\n",
       "    <tr>\n",
       "      <th>3</th>\n",
       "      <td>Alabama</td>\n",
       "      <td>Female</td>\n",
       "      <td>Excellent</td>\n",
       "      <td>0.0</td>\n",
       "      <td>0.0</td>\n",
       "      <td>Within past year (anytime less than 12 months ...</td>\n",
       "      <td>Yes</td>\n",
       "      <td>7.0</td>\n",
       "      <td>None of them</td>\n",
       "      <td>No</td>\n",
       "      <td>...</td>\n",
       "      <td>1.650000</td>\n",
       "      <td>63.50000</td>\n",
       "      <td>23.300000</td>\n",
       "      <td>No</td>\n",
       "      <td>No</td>\n",
       "      <td>Yes</td>\n",
       "      <td>Yes</td>\n",
       "      <td>No, did not receive any tetanus shot in the pa...</td>\n",
       "      <td>No</td>\n",
       "      <td>No</td>\n",
       "    </tr>\n",
       "    <tr>\n",
       "      <th>4</th>\n",
       "      <td>Alabama</td>\n",
       "      <td>Female</td>\n",
       "      <td>Fair</td>\n",
       "      <td>2.0</td>\n",
       "      <td>0.0</td>\n",
       "      <td>Within past year (anytime less than 12 months ...</td>\n",
       "      <td>Yes</td>\n",
       "      <td>9.0</td>\n",
       "      <td>None of them</td>\n",
       "      <td>No</td>\n",
       "      <td>...</td>\n",
       "      <td>1.570000</td>\n",
       "      <td>53.98000</td>\n",
       "      <td>21.770000</td>\n",
       "      <td>Yes</td>\n",
       "      <td>No</td>\n",
       "      <td>No</td>\n",
       "      <td>Yes</td>\n",
       "      <td>No, did not receive any tetanus shot in the pa...</td>\n",
       "      <td>No</td>\n",
       "      <td>No</td>\n",
       "    </tr>\n",
       "  </tbody>\n",
       "</table>\n",
       "<p>5 rows × 40 columns</p>\n",
       "</div>"
      ],
      "text/plain": [
       "     State     Sex GeneralHealth  PhysicalHealthDays  MentalHealthDays  \\\n",
       "0  Alabama  Female     Very good                 0.0               0.0   \n",
       "1  Alabama  Female     Excellent                 0.0               0.0   \n",
       "2  Alabama  Female     Very good                 2.0               3.0   \n",
       "3  Alabama  Female     Excellent                 0.0               0.0   \n",
       "4  Alabama  Female          Fair                 2.0               0.0   \n",
       "\n",
       "                                     LastCheckupTime PhysicalActivities  \\\n",
       "0  Within past year (anytime less than 12 months ...                 No   \n",
       "1  Within past year (anytime less than 12 months ...                 No   \n",
       "2  Within past year (anytime less than 12 months ...                Yes   \n",
       "3  Within past year (anytime less than 12 months ...                Yes   \n",
       "4  Within past year (anytime less than 12 months ...                Yes   \n",
       "\n",
       "   SleepHours  RemovedTeeth HadHeartAttack  ... HeightInMeters  \\\n",
       "0         8.0  None of them             No  ...       1.702691   \n",
       "1         6.0  None of them             No  ...       1.600000   \n",
       "2         5.0  None of them             No  ...       1.570000   \n",
       "3         7.0  None of them             No  ...       1.650000   \n",
       "4         9.0  None of them             No  ...       1.570000   \n",
       "\n",
       "  WeightInKilograms        BMI AlcoholDrinkers HIVTesting FluVaxLast12  \\\n",
       "0          83.07447  28.529842              No         No          Yes   \n",
       "1          68.04000  26.570000              No         No           No   \n",
       "2          63.50000  25.610000              No         No           No   \n",
       "3          63.50000  23.300000              No         No          Yes   \n",
       "4          53.98000  21.770000             Yes         No           No   \n",
       "\n",
       "  PneumoVaxEver                                  TetanusLast10Tdap  \\\n",
       "0            No  Yes, received tetanus shot but not sure what type   \n",
       "1            No  No, did not receive any tetanus shot in the pa...   \n",
       "2            No  No, did not receive any tetanus shot in the pa...   \n",
       "3           Yes  No, did not receive any tetanus shot in the pa...   \n",
       "4           Yes  No, did not receive any tetanus shot in the pa...   \n",
       "\n",
       "  HighRiskLastYear CovidPos  \n",
       "0               No       No  \n",
       "1               No       No  \n",
       "2               No      Yes  \n",
       "3               No       No  \n",
       "4               No       No  \n",
       "\n",
       "[5 rows x 40 columns]"
      ]
     },
     "execution_count": 9,
     "metadata": {},
     "output_type": "execute_result"
    }
   ],
   "source": [
    "# Cópia do dataframe\n",
    "data_copy = data.copy()\n",
    "data_copy.head()"
   ]
  },
  {
   "cell_type": "code",
   "execution_count": 10,
   "id": "8049aebb-0f1b-4d81-9b05-29b03529697b",
   "metadata": {},
   "outputs": [],
   "source": [
    "# Lista de colunas de Sim ou Não a serem mapeadas\n",
    "yes_no_columns = [\n",
    "    'PhysicalActivities', 'HadHeartAttack', 'HadAngina', 'HadStroke',\n",
    "    'HadAsthma', 'HadSkinCancer', 'HadCOPD', 'HadDepressiveDisorder',\n",
    "    'HadKidneyDisease', 'HadArthritis', 'DeafOrHardOfHearing',\n",
    "    'BlindOrVisionDifficulty', 'DifficultyConcentrating',\n",
    "    'DifficultyWalking', 'DifficultyDressingBathing',\n",
    "    'DifficultyErrands', 'ChestScan', 'AlcoholDrinkers',\n",
    "    'HIVTesting', 'FluVaxLast12', 'PneumoVaxEver',\n",
    "    'HighRiskLastYear'\n",
    "]\n",
    "\n",
    "# Mapeando \"Yes\" para 1 e \"No\" para 0\n",
    "data_copy[yes_no_columns] = data_copy[yes_no_columns].replace({'Yes': 1, 'No': 0})  #.astype(int) para converter para inteiro após remoção de valores nulos"
   ]
  },
  {
   "cell_type": "code",
   "execution_count": 11,
   "id": "629bed31-7831-4df5-8847-52186a287028",
   "metadata": {},
   "outputs": [],
   "source": [
    "# Dicionário de mapeamento coluna GeneralHealth\n",
    "health_mapping = {\n",
    "    'Excellent': 5,\n",
    "    'Very good': 4,\n",
    "    'Good': 3,\n",
    "    'Fair': 2,\n",
    "    'Poor': 1\n",
    "}\n",
    "\n",
    "data_copy['GeneralHealth'] = data_copy['GeneralHealth'].map(health_mapping)"
   ]
  },
  {
   "cell_type": "code",
   "execution_count": 12,
   "id": "b412b5a8-8671-470b-a0ce-ddbe93cd365e",
   "metadata": {},
   "outputs": [],
   "source": [
    "# Mapeamento coluna Sex\n",
    "sex_mapping = {\n",
    "    'Male': 0,\n",
    "    'Female': 1\n",
    "}\n",
    "\n",
    "data_copy['Sex'] = data_copy['Sex'].map(sex_mapping)"
   ]
  },
  {
   "cell_type": "code",
   "execution_count": 13,
   "id": "1baa54fa-edd9-4256-b239-eb05f45e89b7",
   "metadata": {},
   "outputs": [],
   "source": [
    "# Mapeamento coluna RemovedTeeth\n",
    "removed_teeth_mapping = {\n",
    "    'None of them': 0,\n",
    "    '1 to 5': 1,\n",
    "    '6 or more, but not all': 2,\n",
    "    'All': 3\n",
    "}\n",
    "\n",
    "data_copy['RemovedTeeth'] = data_copy['RemovedTeeth'].map(removed_teeth_mapping)"
   ]
  },
  {
   "cell_type": "code",
   "execution_count": 14,
   "id": "c33b5402-b862-4b41-92ff-fd4509e1635c",
   "metadata": {},
   "outputs": [],
   "source": [
    "# Mapeamento coluna AgeCategory\n",
    "age_mapping = {\n",
    "    'Age 18 to 24': 0,\n",
    "    'Age 25 to 29': 1,\n",
    "    'Age 30 to 34': 2,\n",
    "    'Age 35 to 39': 3,\n",
    "    'Age 40 to 44': 4,\n",
    "    'Age 45 to 49': 5,\n",
    "    'Age 50 to 54': 6,\n",
    "    'Age 55 to 59': 7,\n",
    "    'Age 60 to 64': 8,\n",
    "    'Age 65 to 69': 9,\n",
    "    'Age 70 to 74': 10,\n",
    "    'Age 75 to 79': 11,\n",
    "    'Age 80 or older': 12\n",
    "}\n",
    "\n",
    "data_copy['AgeCategory'] = data_copy['AgeCategory'].map(age_mapping)"
   ]
  },
  {
   "cell_type": "code",
   "execution_count": 15,
   "id": "17df03a0-2951-4e09-8a28-c4467c786f57",
   "metadata": {},
   "outputs": [],
   "source": [
    "# Mapeamento coluna TetanusLast10Tdap\n",
    "tetanus_mapping = {\n",
    "    'No, did not receive any tetanus shot in the past 10 years': 0,\n",
    "    'Yes, received tetanus shot but not sure what type': 1,\n",
    "    'Yes, received Tdap': 2,\n",
    "    'Yes, received tetanus shot, but not Tdap': 3\n",
    "}\n",
    "\n",
    "data_copy['TetanusLast10Tdap'] = data_copy['TetanusLast10Tdap'].map(tetanus_mapping)"
   ]
  },
  {
   "cell_type": "code",
   "execution_count": 16,
   "id": "da7f1678-3a7d-47b1-bda3-4286e51d345c",
   "metadata": {},
   "outputs": [],
   "source": [
    "# Mapeamento da coluna LastCheckupTime\n",
    "checkup_mapping = {\n",
    "    \"Within past year (anytime less than 12 months ago)\": 0,\n",
    "    \"Within past 2 years (1 year but less than 2 years ago)\": 1,\n",
    "    \"Within past 5 years (2 years but less than 5 years ago)\": 2,\n",
    "    \"5 or more years ago\": 3\n",
    "}\n",
    "\n",
    "# Aplicar o mapeamento à coluna LastCheckupTime\n",
    "data_copy['LastCheckupTime'] = data_copy['LastCheckupTime'].map(checkup_mapping)"
   ]
  },
  {
   "cell_type": "code",
   "execution_count": 17,
   "id": "735b4e66-5d39-42a0-bf59-8aa8778232e2",
   "metadata": {},
   "outputs": [],
   "source": [
    "# Aplicar one-hot encoding\n",
    "data_copy = pd.get_dummies(data_copy, columns=['SmokerStatus', 'ECigaretteUsage', 'RaceEthnicityCategory', 'CovidPos', 'HadDiabetes'], drop_first=True, dtype='int')"
   ]
  },
  {
   "cell_type": "code",
   "execution_count": 18,
   "id": "49ccf941-4c23-45cf-88ad-117be0ff71eb",
   "metadata": {},
   "outputs": [],
   "source": [
    "if 'State' in data_copy.columns:\n",
    "  data_copy = data_copy.drop('State', axis=1)"
   ]
  },
  {
   "cell_type": "code",
   "execution_count": 19,
   "id": "72f7db05-70bc-41df-a448-acb95cea8dcb",
   "metadata": {},
   "outputs": [],
   "source": [
    "data_copy.to_csv(f'{dir_data}/Fase1-output_processed_data.csv', index=False)"
   ]
  },
  {
   "cell_type": "markdown",
   "id": "ff61d138-4532-468e-ab9a-946e20fe6a5b",
   "metadata": {},
   "source": [
    "### Normalização"
   ]
  },
  {
   "cell_type": "code",
   "execution_count": 20,
   "id": "3d1cdbb4-4313-4437-8dfc-b7b3ef57ea44",
   "metadata": {},
   "outputs": [],
   "source": [
    "df = pd.read_csv(f'{dir_data}/Fase1-output_processed_data.csv')"
   ]
  },
  {
   "cell_type": "markdown",
   "id": "7156e129-cd2b-4269-ac9d-88ad7dadbf7c",
   "metadata": {},
   "source": [
    "#### Normalização com z-score"
   ]
  },
  {
   "cell_type": "code",
   "execution_count": 21,
   "id": "ef5c23db-52e0-4188-a6ea-98d530fd6302",
   "metadata": {},
   "outputs": [],
   "source": [
    "# apply normalization techniques \n",
    "for column in df.columns: \n",
    "    df[column] = (df[column] - df[column].mean()) / df[column].std()    "
   ]
  },
  {
   "cell_type": "code",
   "execution_count": 22,
   "id": "ebd9a8b7-2532-4be6-99af-3d9fadcb7dc9",
   "metadata": {},
   "outputs": [],
   "source": [
    "data_copy.to_csv(f'{dir_data}/Fase1-output_processed_data_normalized.csv', index=False)"
   ]
  },
  {
   "cell_type": "markdown",
   "id": "318ca063-1110-491c-878b-bd5e24f3ec40",
   "metadata": {
    "jp-MarkdownHeadingCollapsed": true
   },
   "source": [
    "# Fase 2: Divisão dos Dados\n",
    "Este arquivo realiza a **divisão dos dados**, preparando-os para as fases subsequentes de modelagem e treinamento dos algoritmos de aprendizado de máquina. Abaixo está um resumo das principais etapas e funcionalidades implementadas nesta fase.\n",
    "\n",
    "## Etapas da Divisão dos Dados\n",
    "\n",
    "### 1. Importação das Bibliotecas\n",
    "As bibliotecas necessárias para a criação e avaliação dos modelos são importadas, como:\n",
    "- `pandas` para manipulação de dados\n",
    "- `sklearn.model_selection` para a função train_test_split, que realiza a divisão dos dados\n",
    "\n",
    "### 2. Definição das Variáveis Independentes e Dependentes\n",
    "As variáveis são definidas para a divisão:\n",
    "\n",
    "- `X`: Contém as variáveis independentes, ou seja, todas as colunas exceto a variável alvo.\n",
    "- `y`: Contém a variável dependente, que neste caso é a coluna que indica se houve um ataque cardíaco `HadHeartAttack`.\n",
    "\n",
    "### 3. Divisão dos Dados\n",
    " Os dados são divididos em conjuntos de treino e teste para avaliar o desempenho dos modelos. Esta divisão é realizada utilizando a função `train_test_split` do sklearn.\n",
    "\n",
    "- `Treino (X_train, y_train)`: Usado para treinar os modelos.\n",
    "- `Teste (X_test, y_test)`: Usado para avaliar a performance do modelo."
   ]
  },
  {
   "cell_type": "code",
   "execution_count": 23,
   "id": "5c32c040-d984-4f75-a7af-8ca6154ba519",
   "metadata": {},
   "outputs": [],
   "source": [
    "import pandas as pd\n",
    "from sklearn.model_selection import train_test_split\n",
    "import joblib\n",
    "import seaborn as sns\n",
    "import matplotlib.pyplot as plt"
   ]
  },
  {
   "cell_type": "code",
   "execution_count": 24,
   "id": "be2bf543-d52f-40d3-bafe-0ae64917752e",
   "metadata": {},
   "outputs": [],
   "source": [
    "data = pd.read_csv(f'{dir_data}/Fase1-output_processed_data_normalized.csv')"
   ]
  },
  {
   "cell_type": "code",
   "execution_count": 25,
   "id": "e363e550-4954-47cb-b3a8-8c8bae40c639",
   "metadata": {},
   "outputs": [],
   "source": [
    "# Definir as variáveis independentes (X) e dependentes (y)\n",
    "X = data.drop(columns=['HadHeartAttack'])  # Todas as colunas exceto a variável alvo\n",
    "y = data['HadHeartAttack']  # A variável alvo"
   ]
  },
  {
   "cell_type": "code",
   "execution_count": 26,
   "id": "fcf46dec-24c2-4265-b40d-fc52f924a318",
   "metadata": {},
   "outputs": [],
   "source": [
    "# Dividir os dados em conjunto de treino e teste\n",
    "X_train, X_test, y_train, y_test = train_test_split(X, y, test_size=0.2, random_state=42)"
   ]
  },
  {
   "cell_type": "code",
   "execution_count": 27,
   "id": "524c1d9d-51fe-4dfb-8edb-37bde7cbc10f",
   "metadata": {},
   "outputs": [
    {
     "name": "stdout",
     "output_type": "stream",
     "text": [
      "Dados divididos salvos em data_TB/Fase2-output_data_splits.pkl\n"
     ]
    }
   ],
   "source": [
    "# Salvar os dados divididos\n",
    "save_to = f'{dir_data}/Fase2-output_data_splits.pkl'\n",
    "joblib.dump((X_train, X_test, y_train, y_test), save_to)\n",
    "print(f\"Dados divididos salvos em {save_to}\")"
   ]
  },
  {
   "cell_type": "code",
   "execution_count": 28,
   "id": "61aa68da-eeac-46e8-be6a-d093faa226e4",
   "metadata": {},
   "outputs": [
    {
     "name": "stdout",
     "output_type": "stream",
     "text": [
      "Dados de teste salvos em data_TB/Fase2-output_data_test.pkl\n"
     ]
    }
   ],
   "source": [
    "# Salvar os dados de teste\n",
    "save_to = f'{dir_data}/Fase2-output_data_test.pkl'\n",
    "joblib.dump((X_test, y_test), save_to)\n",
    "print(f\"Dados de teste salvos em {save_to}\")"
   ]
  },
  {
   "cell_type": "code",
   "execution_count": 29,
   "id": "f8364411-5742-40ec-8341-dbbc3e8a64bc",
   "metadata": {},
   "outputs": [
    {
     "data": {
      "image/png": "[encoded data removed]",
      "text/plain": [
       "<Figure size 640x480 with 1 Axes>"
      ]
     },
     "metadata": {},
     "output_type": "display_data"
    },
    {
     "name": "stdout",
     "output_type": "stream",
     "text": [
      "HadHeartAttack\n",
      "0    0.943921\n",
      "1    0.056079\n",
      "Name: proportion, dtype: float64\n"
     ]
    }
   ],
   "source": [
    "sns.countplot(x=y_train)\n",
    "plt.show()\n",
    "\n",
    "# Ver proporção das classes\n",
    "print(y_train.value_counts(normalize=True))"
   ]
  },
  {
   "cell_type": "markdown",
   "id": "2d545678-23d7-4b70-9c89-2305f29f7bcf",
   "metadata": {},
   "source": [
    "# Fase 3 - Balanceamento dos Dados\n",
    "\n",
    "Este arquivo implementa o balanceamento das classes da variável-alvo para evitar que o modelo de aprendizado de máquina se torne enviesado para a classe majoritária. Para isso, foi utilizado o SMOTE (Synthetic Minority Over-sampling Technique), uma técnica que cria amostras sintéticas da classe minoritária, equilibrando assim a distribuição das classes no conjunto de dados.\n",
    "\n",
    "## Etapas do Balanceamento dos Dados\n",
    "\n",
    "### 1. **Carregamento dos Dados**  \n",
    "O conjunto de dados de treino é carregado a partir do arquivo salvo na fase anterior, possibilitando a continuação do fluxo de preparação.\n",
    "\n",
    "### 2. **Aplicação do SMOTE para Balanceamento das Classes**\n",
    "Foi utilizado o SMOTE para gerar amostras sintéticas da classe minoritária no conjunto de treino. Essa técnica ajuda a balancear as classes, evitando que o modelo aprenda de forma enviesada para a classe mais frequente\n",
    "\n",
    "### 3. **Verificação das Proporções das Classes**\n",
    "Após a aplicação do SMOTE, foi exibido as novas proporções das classes no conjunto de dados de treino para confirmar o balanceamento\n",
    "\n",
    "### 4. Salvando Dados Balanceados\n",
    "Por fim, os dados balanceados são salvos em um arquivo para serem utilizados na próxima fase de treinamento e teste dos modelos."
   ]
  },
  {
   "cell_type": "code",
   "execution_count": 30,
   "id": "7061892f-3507-46bc-ac6f-52d801d63be0",
   "metadata": {},
   "outputs": [],
   "source": [
    "import pandas as pd\n",
    "from imblearn.over_sampling import SMOTE\n",
    "import joblib"
   ]
  },
  {
   "cell_type": "code",
   "execution_count": 31,
   "id": "9a7c7e3c-fd98-4855-b70e-d6e9957ff48e",
   "metadata": {},
   "outputs": [
    {
     "name": "stdout",
     "output_type": "stream",
     "text": [
      "Proporções após SMOTE:\n",
      "HadHeartAttack\n",
      "0    0.5\n",
      "1    0.5\n",
      "Name: proportion, dtype: float64\n"
     ]
    },
    {
     "data": {
      "text/plain": [
       "['data_TB/Fase3-output_data_resampled.pkl']"
      ]
     },
     "execution_count": 31,
     "metadata": {},
     "output_type": "execute_result"
    }
   ],
   "source": [
    "# Carregar os dados de treino e teste\n",
    "X_train, X_test, y_train, y_test = joblib.load(f'{dir_data}/Fase2-output_data_splits.pkl')\n",
    "\n",
    "# Aplicar SMOTE\n",
    "smote = SMOTE(random_state=random_state)\n",
    "X_resampled, y_resampled = smote.fit_resample(X_train, y_train)\n",
    "\n",
    "# Exibir as novas proporções\n",
    "print(\"Proporções após SMOTE:\")\n",
    "print(y_resampled.value_counts(normalize=True))\n",
    "\n",
    "# Salvar os dados reamostrados\n",
    "joblib.dump((X_resampled, y_resampled), f'{dir_data}/Fase3-output_data_resampled.pkl')"
   ]
  },
  {
   "cell_type": "code",
   "execution_count": 32,
   "id": "2a1b1fec-fd3b-429f-80ff-a3f480d2ab9a",
   "metadata": {},
   "outputs": [
    {
     "name": "stdout",
     "output_type": "stream",
     "text": [
      "qui 05 dez 2024 15:37:43 -03\n"
     ]
    }
   ],
   "source": [
    "!date"
   ]
  },
  {
   "cell_type": "code",
   "execution_count": 33,
   "id": "10f154ea-d135-4f08-bc48-3ae0f75a1bbf",
   "metadata": {},
   "outputs": [],
   "source": [
    "from pycaret.classification import setup\n",
    "from pycaret.classification import compare_models\n",
    "from pycaret.classification import automl\n",
    "from pycaret.classification import tune_model\n",
    "\n",
    "import joblib\n",
    "from tqdm.notebook import tqdm\n",
    "import pandas as pd"
   ]
  },
  {
   "cell_type": "code",
   "execution_count": 34,
   "id": "d1b07fc6-ff5f-49fe-a0ef-7d70032fcf5e",
   "metadata": {},
   "outputs": [],
   "source": [
    "# Carregar os dados de treino balanceados\n",
    "# X_resampled, y_resampled = joblib.load('/content/drive/MyDrive/Orientacoes/Orientacoes/2024/Heloisa/data/Fase3-output_data_resampled.pkl')\n",
    "X_resampled, y_resampled = joblib.load(f'{dir_data}/Fase3-output_data_resampled.pkl')\n",
    "\n",
    "# Carregar os dados de teste\n",
    "# X_test, y_test = joblib.load('/content/drive/MyDrive/Orientacoes/Orientacoes/2024/Heloisa/data/Fase2-output_data_test.pkl')\n",
    "X_test, y_test = joblib.load(f'{dir_data}/Fase2-output_data_test.pkl')\n",
    "\n",
    "# Concatena a base de treino em um único dataframe\n",
    "train_data = pd.concat([X_resampled, y_resampled], axis=1)\n",
    "\n",
    "# Concatena a base de teste em um único dataframe\n",
    "test_data = pd.concat([X_test, y_test], axis=1)\n",
    "\n",
    "# Concatena tudo em uma única base\n",
    "data = pd.concat([train_data, test_data], ignore_index=True)"
   ]
  },
  {
   "cell_type": "code",
   "execution_count": 35,
   "id": "dbcfdd74-b832-4e98-86b4-9ec7b243748e",
   "metadata": {},
   "outputs": [
    {
     "data": {
      "text/html": [
       "<style type=\"text/css\">\n",
       "#T_1d2e4_row8_col1 {\n",
       "  background-color: lightgreen;\n",
       "}\n",
       "</style>\n",
       "<table id=\"T_1d2e4\">\n",
       "  <thead>\n",
       "    <tr>\n",
       "      <th class=\"blank level0\" >&nbsp;</th>\n",
       "      <th id=\"T_1d2e4_level0_col0\" class=\"col_heading level0 col0\" >Description</th>\n",
       "      <th id=\"T_1d2e4_level0_col1\" class=\"col_heading level0 col1\" >Value</th>\n",
       "    </tr>\n",
       "  </thead>\n",
       "  <tbody>\n",
       "    <tr>\n",
       "      <th id=\"T_1d2e4_level0_row0\" class=\"row_heading level0 row0\" >0</th>\n",
       "      <td id=\"T_1d2e4_row0_col0\" class=\"data row0 col0\" >Session id</td>\n",
       "      <td id=\"T_1d2e4_row0_col1\" class=\"data row0 col1\" >5217</td>\n",
       "    </tr>\n",
       "    <tr>\n",
       "      <th id=\"T_1d2e4_level0_row1\" class=\"row_heading level0 row1\" >1</th>\n",
       "      <td id=\"T_1d2e4_row1_col0\" class=\"data row1 col0\" >Target</td>\n",
       "      <td id=\"T_1d2e4_row1_col1\" class=\"data row1 col1\" >HadHeartAttack</td>\n",
       "    </tr>\n",
       "    <tr>\n",
       "      <th id=\"T_1d2e4_level0_row2\" class=\"row_heading level0 row2\" >2</th>\n",
       "      <td id=\"T_1d2e4_row2_col0\" class=\"data row2 col0\" >Target type</td>\n",
       "      <td id=\"T_1d2e4_row2_col1\" class=\"data row2 col1\" >Binary</td>\n",
       "    </tr>\n",
       "    <tr>\n",
       "      <th id=\"T_1d2e4_level0_row3\" class=\"row_heading level0 row3\" >3</th>\n",
       "      <td id=\"T_1d2e4_row3_col0\" class=\"data row3 col0\" >Original data shape</td>\n",
       "      <td id=\"T_1d2e4_row3_col1\" class=\"data row3 col1\" >(672270, 49)</td>\n",
       "    </tr>\n",
       "    <tr>\n",
       "      <th id=\"T_1d2e4_level0_row4\" class=\"row_heading level0 row4\" >4</th>\n",
       "      <td id=\"T_1d2e4_row4_col0\" class=\"data row4 col0\" >Transformed data shape</td>\n",
       "      <td id=\"T_1d2e4_row4_col1\" class=\"data row4 col1\" >(672270, 49)</td>\n",
       "    </tr>\n",
       "    <tr>\n",
       "      <th id=\"T_1d2e4_level0_row5\" class=\"row_heading level0 row5\" >5</th>\n",
       "      <td id=\"T_1d2e4_row5_col0\" class=\"data row5 col0\" >Transformed train set shape</td>\n",
       "      <td id=\"T_1d2e4_row5_col1\" class=\"data row5 col1\" >(470588, 49)</td>\n",
       "    </tr>\n",
       "    <tr>\n",
       "      <th id=\"T_1d2e4_level0_row6\" class=\"row_heading level0 row6\" >6</th>\n",
       "      <td id=\"T_1d2e4_row6_col0\" class=\"data row6 col0\" >Transformed test set shape</td>\n",
       "      <td id=\"T_1d2e4_row6_col1\" class=\"data row6 col1\" >(201682, 49)</td>\n",
       "    </tr>\n",
       "    <tr>\n",
       "      <th id=\"T_1d2e4_level0_row7\" class=\"row_heading level0 row7\" >7</th>\n",
       "      <td id=\"T_1d2e4_row7_col0\" class=\"data row7 col0\" >Numeric features</td>\n",
       "      <td id=\"T_1d2e4_row7_col1\" class=\"data row7 col1\" >48</td>\n",
       "    </tr>\n",
       "    <tr>\n",
       "      <th id=\"T_1d2e4_level0_row8\" class=\"row_heading level0 row8\" >8</th>\n",
       "      <td id=\"T_1d2e4_row8_col0\" class=\"data row8 col0\" >Preprocess</td>\n",
       "      <td id=\"T_1d2e4_row8_col1\" class=\"data row8 col1\" >True</td>\n",
       "    </tr>\n",
       "    <tr>\n",
       "      <th id=\"T_1d2e4_level0_row9\" class=\"row_heading level0 row9\" >9</th>\n",
       "      <td id=\"T_1d2e4_row9_col0\" class=\"data row9 col0\" >Imputation type</td>\n",
       "      <td id=\"T_1d2e4_row9_col1\" class=\"data row9 col1\" >simple</td>\n",
       "    </tr>\n",
       "    <tr>\n",
       "      <th id=\"T_1d2e4_level0_row10\" class=\"row_heading level0 row10\" >10</th>\n",
       "      <td id=\"T_1d2e4_row10_col0\" class=\"data row10 col0\" >Numeric imputation</td>\n",
       "      <td id=\"T_1d2e4_row10_col1\" class=\"data row10 col1\" >mean</td>\n",
       "    </tr>\n",
       "    <tr>\n",
       "      <th id=\"T_1d2e4_level0_row11\" class=\"row_heading level0 row11\" >11</th>\n",
       "      <td id=\"T_1d2e4_row11_col0\" class=\"data row11 col0\" >Categorical imputation</td>\n",
       "      <td id=\"T_1d2e4_row11_col1\" class=\"data row11 col1\" >mode</td>\n",
       "    </tr>\n",
       "    <tr>\n",
       "      <th id=\"T_1d2e4_level0_row12\" class=\"row_heading level0 row12\" >12</th>\n",
       "      <td id=\"T_1d2e4_row12_col0\" class=\"data row12 col0\" >Fold Generator</td>\n",
       "      <td id=\"T_1d2e4_row12_col1\" class=\"data row12 col1\" >StratifiedKFold</td>\n",
       "    </tr>\n",
       "    <tr>\n",
       "      <th id=\"T_1d2e4_level0_row13\" class=\"row_heading level0 row13\" >13</th>\n",
       "      <td id=\"T_1d2e4_row13_col0\" class=\"data row13 col0\" >Fold Number</td>\n",
       "      <td id=\"T_1d2e4_row13_col1\" class=\"data row13 col1\" >10</td>\n",
       "    </tr>\n",
       "    <tr>\n",
       "      <th id=\"T_1d2e4_level0_row14\" class=\"row_heading level0 row14\" >14</th>\n",
       "      <td id=\"T_1d2e4_row14_col0\" class=\"data row14 col0\" >CPU Jobs</td>\n",
       "      <td id=\"T_1d2e4_row14_col1\" class=\"data row14 col1\" >-1</td>\n",
       "    </tr>\n",
       "    <tr>\n",
       "      <th id=\"T_1d2e4_level0_row15\" class=\"row_heading level0 row15\" >15</th>\n",
       "      <td id=\"T_1d2e4_row15_col0\" class=\"data row15 col0\" >Use GPU</td>\n",
       "      <td id=\"T_1d2e4_row15_col1\" class=\"data row15 col1\" >False</td>\n",
       "    </tr>\n",
       "    <tr>\n",
       "      <th id=\"T_1d2e4_level0_row16\" class=\"row_heading level0 row16\" >16</th>\n",
       "      <td id=\"T_1d2e4_row16_col0\" class=\"data row16 col0\" >Log Experiment</td>\n",
       "      <td id=\"T_1d2e4_row16_col1\" class=\"data row16 col1\" >False</td>\n",
       "    </tr>\n",
       "    <tr>\n",
       "      <th id=\"T_1d2e4_level0_row17\" class=\"row_heading level0 row17\" >17</th>\n",
       "      <td id=\"T_1d2e4_row17_col0\" class=\"data row17 col0\" >Experiment Name</td>\n",
       "      <td id=\"T_1d2e4_row17_col1\" class=\"data row17 col1\" >clf-default-name</td>\n",
       "    </tr>\n",
       "    <tr>\n",
       "      <th id=\"T_1d2e4_level0_row18\" class=\"row_heading level0 row18\" >18</th>\n",
       "      <td id=\"T_1d2e4_row18_col0\" class=\"data row18 col0\" >USI</td>\n",
       "      <td id=\"T_1d2e4_row18_col1\" class=\"data row18 col1\" >b8f3</td>\n",
       "    </tr>\n",
       "  </tbody>\n",
       "</table>\n"
      ],
      "text/plain": [
       "<pandas.io.formats.style.Styler at 0x7f32d4925610>"
      ]
     },
     "metadata": {},
     "output_type": "display_data"
    }
   ],
   "source": [
    "train_data_pycaret = setup(data = train_data, target = 'HadHeartAttack', use_gpu=False)"
   ]
  },
  {
   "cell_type": "code",
   "execution_count": 36,
   "id": "e5d4be1c-d3ac-449c-9d9f-0c0344156c3e",
   "metadata": {},
   "outputs": [
    {
     "data": {
      "text/html": [],
      "text/plain": [
       "<IPython.core.display.HTML object>"
      ]
     },
     "metadata": {},
     "output_type": "display_data"
    },
    {
     "data": {
      "text/html": [
       "<style type=\"text/css\">\n",
       "#T_3ffd7 th {\n",
       "  text-align: left;\n",
       "}\n",
       "#T_3ffd7_row0_col0, #T_3ffd7_row1_col0, #T_3ffd7_row1_col1, #T_3ffd7_row1_col2, #T_3ffd7_row1_col3, #T_3ffd7_row1_col4, #T_3ffd7_row1_col5, #T_3ffd7_row1_col6, #T_3ffd7_row1_col7 {\n",
       "  text-align: left;\n",
       "}\n",
       "#T_3ffd7_row0_col1, #T_3ffd7_row0_col2, #T_3ffd7_row0_col3, #T_3ffd7_row0_col4, #T_3ffd7_row0_col5, #T_3ffd7_row0_col6, #T_3ffd7_row0_col7 {\n",
       "  text-align: left;\n",
       "  background-color: yellow;\n",
       "}\n",
       "#T_3ffd7_row0_col8 {\n",
       "  text-align: left;\n",
       "  background-color: lightgrey;\n",
       "}\n",
       "#T_3ffd7_row1_col8 {\n",
       "  text-align: left;\n",
       "  background-color: yellow;\n",
       "  background-color: lightgrey;\n",
       "}\n",
       "</style>\n",
       "<table id=\"T_3ffd7\">\n",
       "  <thead>\n",
       "    <tr>\n",
       "      <th class=\"blank level0\" >&nbsp;</th>\n",
       "      <th id=\"T_3ffd7_level0_col0\" class=\"col_heading level0 col0\" >Model</th>\n",
       "      <th id=\"T_3ffd7_level0_col1\" class=\"col_heading level0 col1\" >Accuracy</th>\n",
       "      <th id=\"T_3ffd7_level0_col2\" class=\"col_heading level0 col2\" >AUC</th>\n",
       "      <th id=\"T_3ffd7_level0_col3\" class=\"col_heading level0 col3\" >Recall</th>\n",
       "      <th id=\"T_3ffd7_level0_col4\" class=\"col_heading level0 col4\" >Prec.</th>\n",
       "      <th id=\"T_3ffd7_level0_col5\" class=\"col_heading level0 col5\" >F1</th>\n",
       "      <th id=\"T_3ffd7_level0_col6\" class=\"col_heading level0 col6\" >Kappa</th>\n",
       "      <th id=\"T_3ffd7_level0_col7\" class=\"col_heading level0 col7\" >MCC</th>\n",
       "      <th id=\"T_3ffd7_level0_col8\" class=\"col_heading level0 col8\" >TT (Sec)</th>\n",
       "    </tr>\n",
       "  </thead>\n",
       "  <tbody>\n",
       "    <tr>\n",
       "      <th id=\"T_3ffd7_level0_row0\" class=\"row_heading level0 row0\" >rf</th>\n",
       "      <td id=\"T_3ffd7_row0_col0\" class=\"data row0 col0\" >Random Forest Classifier</td>\n",
       "      <td id=\"T_3ffd7_row0_col1\" class=\"data row0 col1\" >0.9545</td>\n",
       "      <td id=\"T_3ffd7_row0_col2\" class=\"data row0 col2\" >0.9909</td>\n",
       "      <td id=\"T_3ffd7_row0_col3\" class=\"data row0 col3\" >0.9569</td>\n",
       "      <td id=\"T_3ffd7_row0_col4\" class=\"data row0 col4\" >0.9524</td>\n",
       "      <td id=\"T_3ffd7_row0_col5\" class=\"data row0 col5\" >0.9546</td>\n",
       "      <td id=\"T_3ffd7_row0_col6\" class=\"data row0 col6\" >0.9090</td>\n",
       "      <td id=\"T_3ffd7_row0_col7\" class=\"data row0 col7\" >0.9090</td>\n",
       "      <td id=\"T_3ffd7_row0_col8\" class=\"data row0 col8\" >24.7660</td>\n",
       "    </tr>\n",
       "    <tr>\n",
       "      <th id=\"T_3ffd7_level0_row1\" class=\"row_heading level0 row1\" >lr</th>\n",
       "      <td id=\"T_3ffd7_row1_col0\" class=\"data row1 col0\" >Logistic Regression</td>\n",
       "      <td id=\"T_3ffd7_row1_col1\" class=\"data row1 col1\" >0.8819</td>\n",
       "      <td id=\"T_3ffd7_row1_col2\" class=\"data row1 col2\" >0.9505</td>\n",
       "      <td id=\"T_3ffd7_row1_col3\" class=\"data row1 col3\" >0.8800</td>\n",
       "      <td id=\"T_3ffd7_row1_col4\" class=\"data row1 col4\" >0.8834</td>\n",
       "      <td id=\"T_3ffd7_row1_col5\" class=\"data row1 col5\" >0.8817</td>\n",
       "      <td id=\"T_3ffd7_row1_col6\" class=\"data row1 col6\" >0.7638</td>\n",
       "      <td id=\"T_3ffd7_row1_col7\" class=\"data row1 col7\" >0.7639</td>\n",
       "      <td id=\"T_3ffd7_row1_col8\" class=\"data row1 col8\" >18.6910</td>\n",
       "    </tr>\n",
       "  </tbody>\n",
       "</table>\n"
      ],
      "text/plain": [
       "<pandas.io.formats.style.Styler at 0x7f32b57f7550>"
      ]
     },
     "metadata": {},
     "output_type": "display_data"
    },
    {
     "data": {
      "text/html": [],
      "text/plain": [
       "<IPython.core.display.HTML object>"
      ]
     },
     "metadata": {},
     "output_type": "display_data"
    },
    {
     "name": "stdout",
     "output_type": "stream",
     "text": [
      "CPU times: user 3min 7s, sys: 2.5 s, total: 3min 10s\n",
      "Wall time: 7min 45s\n"
     ]
    }
   ],
   "source": [
    "%%time\n",
    "models = compare_models(include = ['rf', 'lr'])"
   ]
  },
  {
   "cell_type": "code",
   "execution_count": 37,
   "id": "34fc3965-3050-4b7a-a3d7-71fca408d85b",
   "metadata": {},
   "outputs": [
    {
     "data": {
      "text/html": [],
      "text/plain": [
       "<IPython.core.display.HTML object>"
      ]
     },
     "metadata": {},
     "output_type": "display_data"
    },
    {
     "data": {
      "text/html": [
       "<style type=\"text/css\">\n",
       "#T_e43de_row10_col0, #T_e43de_row10_col1, #T_e43de_row10_col2, #T_e43de_row10_col3, #T_e43de_row10_col4, #T_e43de_row10_col5, #T_e43de_row10_col6 {\n",
       "  background: yellow;\n",
       "}\n",
       "</style>\n",
       "<table id=\"T_e43de\">\n",
       "  <thead>\n",
       "    <tr>\n",
       "      <th class=\"blank level0\" >&nbsp;</th>\n",
       "      <th id=\"T_e43de_level0_col0\" class=\"col_heading level0 col0\" >Accuracy</th>\n",
       "      <th id=\"T_e43de_level0_col1\" class=\"col_heading level0 col1\" >AUC</th>\n",
       "      <th id=\"T_e43de_level0_col2\" class=\"col_heading level0 col2\" >Recall</th>\n",
       "      <th id=\"T_e43de_level0_col3\" class=\"col_heading level0 col3\" >Prec.</th>\n",
       "      <th id=\"T_e43de_level0_col4\" class=\"col_heading level0 col4\" >F1</th>\n",
       "      <th id=\"T_e43de_level0_col5\" class=\"col_heading level0 col5\" >Kappa</th>\n",
       "      <th id=\"T_e43de_level0_col6\" class=\"col_heading level0 col6\" >MCC</th>\n",
       "    </tr>\n",
       "    <tr>\n",
       "      <th class=\"index_name level0\" >Fold</th>\n",
       "      <th class=\"blank col0\" >&nbsp;</th>\n",
       "      <th class=\"blank col1\" >&nbsp;</th>\n",
       "      <th class=\"blank col2\" >&nbsp;</th>\n",
       "      <th class=\"blank col3\" >&nbsp;</th>\n",
       "      <th class=\"blank col4\" >&nbsp;</th>\n",
       "      <th class=\"blank col5\" >&nbsp;</th>\n",
       "      <th class=\"blank col6\" >&nbsp;</th>\n",
       "    </tr>\n",
       "  </thead>\n",
       "  <tbody>\n",
       "    <tr>\n",
       "      <th id=\"T_e43de_level0_row0\" class=\"row_heading level0 row0\" >0</th>\n",
       "      <td id=\"T_e43de_row0_col0\" class=\"data row0 col0\" >0.8510</td>\n",
       "      <td id=\"T_e43de_row0_col1\" class=\"data row0 col1\" >0.9304</td>\n",
       "      <td id=\"T_e43de_row0_col2\" class=\"data row0 col2\" >0.8670</td>\n",
       "      <td id=\"T_e43de_row0_col3\" class=\"data row0 col3\" >0.8401</td>\n",
       "      <td id=\"T_e43de_row0_col4\" class=\"data row0 col4\" >0.8533</td>\n",
       "      <td id=\"T_e43de_row0_col5\" class=\"data row0 col5\" >0.7019</td>\n",
       "      <td id=\"T_e43de_row0_col6\" class=\"data row0 col6\" >0.7023</td>\n",
       "    </tr>\n",
       "    <tr>\n",
       "      <th id=\"T_e43de_level0_row1\" class=\"row_heading level0 row1\" >1</th>\n",
       "      <td id=\"T_e43de_row1_col0\" class=\"data row1 col0\" >0.8513</td>\n",
       "      <td id=\"T_e43de_row1_col1\" class=\"data row1 col1\" >0.9309</td>\n",
       "      <td id=\"T_e43de_row1_col2\" class=\"data row1 col2\" >0.8667</td>\n",
       "      <td id=\"T_e43de_row1_col3\" class=\"data row1 col3\" >0.8408</td>\n",
       "      <td id=\"T_e43de_row1_col4\" class=\"data row1 col4\" >0.8536</td>\n",
       "      <td id=\"T_e43de_row1_col5\" class=\"data row1 col5\" >0.7026</td>\n",
       "      <td id=\"T_e43de_row1_col6\" class=\"data row1 col6\" >0.7030</td>\n",
       "    </tr>\n",
       "    <tr>\n",
       "      <th id=\"T_e43de_level0_row2\" class=\"row_heading level0 row2\" >2</th>\n",
       "      <td id=\"T_e43de_row2_col0\" class=\"data row2 col0\" >0.8514</td>\n",
       "      <td id=\"T_e43de_row2_col1\" class=\"data row2 col1\" >0.9310</td>\n",
       "      <td id=\"T_e43de_row2_col2\" class=\"data row2 col2\" >0.8640</td>\n",
       "      <td id=\"T_e43de_row2_col3\" class=\"data row2 col3\" >0.8427</td>\n",
       "      <td id=\"T_e43de_row2_col4\" class=\"data row2 col4\" >0.8533</td>\n",
       "      <td id=\"T_e43de_row2_col5\" class=\"data row2 col5\" >0.7028</td>\n",
       "      <td id=\"T_e43de_row2_col6\" class=\"data row2 col6\" >0.7030</td>\n",
       "    </tr>\n",
       "    <tr>\n",
       "      <th id=\"T_e43de_level0_row3\" class=\"row_heading level0 row3\" >3</th>\n",
       "      <td id=\"T_e43de_row3_col0\" class=\"data row3 col0\" >0.8527</td>\n",
       "      <td id=\"T_e43de_row3_col1\" class=\"data row3 col1\" >0.9306</td>\n",
       "      <td id=\"T_e43de_row3_col2\" class=\"data row3 col2\" >0.8670</td>\n",
       "      <td id=\"T_e43de_row3_col3\" class=\"data row3 col3\" >0.8428</td>\n",
       "      <td id=\"T_e43de_row3_col4\" class=\"data row3 col4\" >0.8547</td>\n",
       "      <td id=\"T_e43de_row3_col5\" class=\"data row3 col5\" >0.7053</td>\n",
       "      <td id=\"T_e43de_row3_col6\" class=\"data row3 col6\" >0.7056</td>\n",
       "    </tr>\n",
       "    <tr>\n",
       "      <th id=\"T_e43de_level0_row4\" class=\"row_heading level0 row4\" >4</th>\n",
       "      <td id=\"T_e43de_row4_col0\" class=\"data row4 col0\" >0.8521</td>\n",
       "      <td id=\"T_e43de_row4_col1\" class=\"data row4 col1\" >0.9317</td>\n",
       "      <td id=\"T_e43de_row4_col2\" class=\"data row4 col2\" >0.8635</td>\n",
       "      <td id=\"T_e43de_row4_col3\" class=\"data row4 col3\" >0.8443</td>\n",
       "      <td id=\"T_e43de_row4_col4\" class=\"data row4 col4\" >0.8538</td>\n",
       "      <td id=\"T_e43de_row4_col5\" class=\"data row4 col5\" >0.7043</td>\n",
       "      <td id=\"T_e43de_row4_col6\" class=\"data row4 col6\" >0.7045</td>\n",
       "    </tr>\n",
       "    <tr>\n",
       "      <th id=\"T_e43de_level0_row5\" class=\"row_heading level0 row5\" >5</th>\n",
       "      <td id=\"T_e43de_row5_col0\" class=\"data row5 col0\" >0.8520</td>\n",
       "      <td id=\"T_e43de_row5_col1\" class=\"data row5 col1\" >0.9306</td>\n",
       "      <td id=\"T_e43de_row5_col2\" class=\"data row5 col2\" >0.8687</td>\n",
       "      <td id=\"T_e43de_row5_col3\" class=\"data row5 col3\" >0.8406</td>\n",
       "      <td id=\"T_e43de_row5_col4\" class=\"data row5 col4\" >0.8544</td>\n",
       "      <td id=\"T_e43de_row5_col5\" class=\"data row5 col5\" >0.7039</td>\n",
       "      <td id=\"T_e43de_row5_col6\" class=\"data row5 col6\" >0.7043</td>\n",
       "    </tr>\n",
       "    <tr>\n",
       "      <th id=\"T_e43de_level0_row6\" class=\"row_heading level0 row6\" >6</th>\n",
       "      <td id=\"T_e43de_row6_col0\" class=\"data row6 col0\" >0.8498</td>\n",
       "      <td id=\"T_e43de_row6_col1\" class=\"data row6 col1\" >0.9291</td>\n",
       "      <td id=\"T_e43de_row6_col2\" class=\"data row6 col2\" >0.8613</td>\n",
       "      <td id=\"T_e43de_row6_col3\" class=\"data row6 col3\" >0.8419</td>\n",
       "      <td id=\"T_e43de_row6_col4\" class=\"data row6 col4\" >0.8515</td>\n",
       "      <td id=\"T_e43de_row6_col5\" class=\"data row6 col5\" >0.6996</td>\n",
       "      <td id=\"T_e43de_row6_col6\" class=\"data row6 col6\" >0.6998</td>\n",
       "    </tr>\n",
       "    <tr>\n",
       "      <th id=\"T_e43de_level0_row7\" class=\"row_heading level0 row7\" >7</th>\n",
       "      <td id=\"T_e43de_row7_col0\" class=\"data row7 col0\" >0.8504</td>\n",
       "      <td id=\"T_e43de_row7_col1\" class=\"data row7 col1\" >0.9303</td>\n",
       "      <td id=\"T_e43de_row7_col2\" class=\"data row7 col2\" >0.8644</td>\n",
       "      <td id=\"T_e43de_row7_col3\" class=\"data row7 col3\" >0.8409</td>\n",
       "      <td id=\"T_e43de_row7_col4\" class=\"data row7 col4\" >0.8525</td>\n",
       "      <td id=\"T_e43de_row7_col5\" class=\"data row7 col5\" >0.7008</td>\n",
       "      <td id=\"T_e43de_row7_col6\" class=\"data row7 col6\" >0.7011</td>\n",
       "    </tr>\n",
       "    <tr>\n",
       "      <th id=\"T_e43de_level0_row8\" class=\"row_heading level0 row8\" >8</th>\n",
       "      <td id=\"T_e43de_row8_col0\" class=\"data row8 col0\" >0.8498</td>\n",
       "      <td id=\"T_e43de_row8_col1\" class=\"data row8 col1\" >0.9299</td>\n",
       "      <td id=\"T_e43de_row8_col2\" class=\"data row8 col2\" >0.8653</td>\n",
       "      <td id=\"T_e43de_row8_col3\" class=\"data row8 col3\" >0.8394</td>\n",
       "      <td id=\"T_e43de_row8_col4\" class=\"data row8 col4\" >0.8521</td>\n",
       "      <td id=\"T_e43de_row8_col5\" class=\"data row8 col5\" >0.6997</td>\n",
       "      <td id=\"T_e43de_row8_col6\" class=\"data row8 col6\" >0.7000</td>\n",
       "    </tr>\n",
       "    <tr>\n",
       "      <th id=\"T_e43de_level0_row9\" class=\"row_heading level0 row9\" >9</th>\n",
       "      <td id=\"T_e43de_row9_col0\" class=\"data row9 col0\" >0.8513</td>\n",
       "      <td id=\"T_e43de_row9_col1\" class=\"data row9 col1\" >0.9297</td>\n",
       "      <td id=\"T_e43de_row9_col2\" class=\"data row9 col2\" >0.8678</td>\n",
       "      <td id=\"T_e43de_row9_col3\" class=\"data row9 col3\" >0.8401</td>\n",
       "      <td id=\"T_e43de_row9_col4\" class=\"data row9 col4\" >0.8537</td>\n",
       "      <td id=\"T_e43de_row9_col5\" class=\"data row9 col5\" >0.7027</td>\n",
       "      <td id=\"T_e43de_row9_col6\" class=\"data row9 col6\" >0.7030</td>\n",
       "    </tr>\n",
       "    <tr>\n",
       "      <th id=\"T_e43de_level0_row10\" class=\"row_heading level0 row10\" >Mean</th>\n",
       "      <td id=\"T_e43de_row10_col0\" class=\"data row10 col0\" >0.8512</td>\n",
       "      <td id=\"T_e43de_row10_col1\" class=\"data row10 col1\" >0.9304</td>\n",
       "      <td id=\"T_e43de_row10_col2\" class=\"data row10 col2\" >0.8656</td>\n",
       "      <td id=\"T_e43de_row10_col3\" class=\"data row10 col3\" >0.8414</td>\n",
       "      <td id=\"T_e43de_row10_col4\" class=\"data row10 col4\" >0.8533</td>\n",
       "      <td id=\"T_e43de_row10_col5\" class=\"data row10 col5\" >0.7024</td>\n",
       "      <td id=\"T_e43de_row10_col6\" class=\"data row10 col6\" >0.7027</td>\n",
       "    </tr>\n",
       "    <tr>\n",
       "      <th id=\"T_e43de_level0_row11\" class=\"row_heading level0 row11\" >Std</th>\n",
       "      <td id=\"T_e43de_row11_col0\" class=\"data row11 col0\" >0.0009</td>\n",
       "      <td id=\"T_e43de_row11_col1\" class=\"data row11 col1\" >0.0007</td>\n",
       "      <td id=\"T_e43de_row11_col2\" class=\"data row11 col2\" >0.0022</td>\n",
       "      <td id=\"T_e43de_row11_col3\" class=\"data row11 col3\" >0.0015</td>\n",
       "      <td id=\"T_e43de_row11_col4\" class=\"data row11 col4\" >0.0010</td>\n",
       "      <td id=\"T_e43de_row11_col5\" class=\"data row11 col5\" >0.0018</td>\n",
       "      <td id=\"T_e43de_row11_col6\" class=\"data row11 col6\" >0.0018</td>\n",
       "    </tr>\n",
       "  </tbody>\n",
       "</table>\n"
      ],
      "text/plain": [
       "<pandas.io.formats.style.Styler at 0x7f32d4cbe730>"
      ]
     },
     "metadata": {},
     "output_type": "display_data"
    },
    {
     "data": {
      "text/html": [],
      "text/plain": [
       "<IPython.core.display.HTML object>"
      ]
     },
     "metadata": {},
     "output_type": "display_data"
    },
    {
     "name": "stdout",
     "output_type": "stream",
     "text": [
      "Fitting 10 folds for each of 10 candidates, totalling 100 fits\n",
      "Original model was better than the tuned model, hence it will be returned. NOTE: The display metrics are for the tuned model (not the original one).\n",
      "CPU times: user 10min 45s, sys: 9.78 s, total: 10min 55s\n",
      "Wall time: 1h 44min 58s\n"
     ]
    }
   ],
   "source": [
    "%%time\n",
    "#Picking the winner\n",
    "best_model = automl(optimize = 'Accuracy')\n",
    "\n",
    "#Fine-tuning the best model\n",
    "tuned_best_model = tune_model(best_model)"
   ]
  },
  {
   "cell_type": "code",
   "execution_count": 38,
   "id": "33568a6f-52a4-4e2e-b894-11cb2ac0f267",
   "metadata": {},
   "outputs": [
    {
     "data": {
      "text/html": [
       "<style>#sk-container-id-1 {\n",
       "  /* Definition of color scheme common for light and dark mode */\n",
       "  --sklearn-color-text: black;\n",
       "  --sklearn-color-line: gray;\n",
       "  /* Definition of color scheme for unfitted estimators */\n",
       "  --sklearn-color-unfitted-level-0: #fff5e6;\n",
       "  --sklearn-color-unfitted-level-1: #f6e4d2;\n",
       "  --sklearn-color-unfitted-level-2: #ffe0b3;\n",
       "  --sklearn-color-unfitted-level-3: chocolate;\n",
       "  /* Definition of color scheme for fitted estimators */\n",
       "  --sklearn-color-fitted-level-0: #f0f8ff;\n",
       "  --sklearn-color-fitted-level-1: #d4ebff;\n",
       "  --sklearn-color-fitted-level-2: #b3dbfd;\n",
       "  --sklearn-color-fitted-level-3: cornflowerblue;\n",
       "\n",
       "  /* Specific color for light theme */\n",
       "  --sklearn-color-text-on-default-background: var(--sg-text-color, var(--theme-code-foreground, var(--jp-content-font-color1, black)));\n",
       "  --sklearn-color-background: var(--sg-background-color, var(--theme-background, var(--jp-layout-color0, white)));\n",
       "  --sklearn-color-border-box: var(--sg-text-color, var(--theme-code-foreground, var(--jp-content-font-color1, black)));\n",
       "  --sklearn-color-icon: #696969;\n",
       "\n",
       "  @media (prefers-color-scheme: dark) {\n",
       "    /* Redefinition of color scheme for dark theme */\n",
       "    --sklearn-color-text-on-default-background: var(--sg-text-color, var(--theme-code-foreground, var(--jp-content-font-color1, white)));\n",
       "    --sklearn-color-background: var(--sg-background-color, var(--theme-background, var(--jp-layout-color0, #111)));\n",
       "    --sklearn-color-border-box: var(--sg-text-color, var(--theme-code-foreground, var(--jp-content-font-color1, white)));\n",
       "    --sklearn-color-icon: #878787;\n",
       "  }\n",
       "}\n",
       "\n",
       "#sk-container-id-1 {\n",
       "  color: var(--sklearn-color-text);\n",
       "}\n",
       "\n",
       "#sk-container-id-1 pre {\n",
       "  padding: 0;\n",
       "}\n",
       "\n",
       "#sk-container-id-1 input.sk-hidden--visually {\n",
       "  border: 0;\n",
       "  clip: rect(1px 1px 1px 1px);\n",
       "  clip: rect(1px, 1px, 1px, 1px);\n",
       "  height: 1px;\n",
       "  margin: -1px;\n",
       "  overflow: hidden;\n",
       "  padding: 0;\n",
       "  position: absolute;\n",
       "  width: 1px;\n",
       "}\n",
       "\n",
       "#sk-container-id-1 div.sk-dashed-wrapped {\n",
       "  border: 1px dashed var(--sklearn-color-line);\n",
       "  margin: 0 0.4em 0.5em 0.4em;\n",
       "  box-sizing: border-box;\n",
       "  padding-bottom: 0.4em;\n",
       "  background-color: var(--sklearn-color-background);\n",
       "}\n",
       "\n",
       "#sk-container-id-1 div.sk-container {\n",
       "  /* jupyter's `normalize.less` sets `[hidden] { display: none; }`\n",
       "     but bootstrap.min.css set `[hidden] { display: none !important; }`\n",
       "     so we also need the `!important` here to be able to override the\n",
       "     default hidden behavior on the sphinx rendered scikit-learn.org.\n",
       "     See: https://github.com/scikit-learn/scikit-learn/issues/21755 */\n",
       "  display: inline-block !important;\n",
       "  position: relative;\n",
       "}\n",
       "\n",
       "#sk-container-id-1 div.sk-text-repr-fallback {\n",
       "  display: none;\n",
       "}\n",
       "\n",
       "div.sk-parallel-item,\n",
       "div.sk-serial,\n",
       "div.sk-item {\n",
       "  /* draw centered vertical line to link estimators */\n",
       "  background-image: linear-gradient(var(--sklearn-color-text-on-default-background), var(--sklearn-color-text-on-default-background));\n",
       "  background-size: 2px 100%;\n",
       "  background-repeat: no-repeat;\n",
       "  background-position: center center;\n",
       "}\n",
       "\n",
       "/* Parallel-specific style estimator block */\n",
       "\n",
       "#sk-container-id-1 div.sk-parallel-item::after {\n",
       "  content: \"\";\n",
       "  width: 100%;\n",
       "  border-bottom: 2px solid var(--sklearn-color-text-on-default-background);\n",
       "  flex-grow: 1;\n",
       "}\n",
       "\n",
       "#sk-container-id-1 div.sk-parallel {\n",
       "  display: flex;\n",
       "  align-items: stretch;\n",
       "  justify-content: center;\n",
       "  background-color: var(--sklearn-color-background);\n",
       "  position: relative;\n",
       "}\n",
       "\n",
       "#sk-container-id-1 div.sk-parallel-item {\n",
       "  display: flex;\n",
       "  flex-direction: column;\n",
       "}\n",
       "\n",
       "#sk-container-id-1 div.sk-parallel-item:first-child::after {\n",
       "  align-self: flex-end;\n",
       "  width: 50%;\n",
       "}\n",
       "\n",
       "#sk-container-id-1 div.sk-parallel-item:last-child::after {\n",
       "  align-self: flex-start;\n",
       "  width: 50%;\n",
       "}\n",
       "\n",
       "#sk-container-id-1 div.sk-parallel-item:only-child::after {\n",
       "  width: 0;\n",
       "}\n",
       "\n",
       "/* Serial-specific style estimator block */\n",
       "\n",
       "#sk-container-id-1 div.sk-serial {\n",
       "  display: flex;\n",
       "  flex-direction: column;\n",
       "  align-items: center;\n",
       "  background-color: var(--sklearn-color-background);\n",
       "  padding-right: 1em;\n",
       "  padding-left: 1em;\n",
       "}\n",
       "\n",
       "\n",
       "/* Toggleable style: style used for estimator/Pipeline/ColumnTransformer box that is\n",
       "clickable and can be expanded/collapsed.\n",
       "- Pipeline and ColumnTransformer use this feature and define the default style\n",
       "- Estimators will overwrite some part of the style using the `sk-estimator` class\n",
       "*/\n",
       "\n",
       "/* Pipeline and ColumnTransformer style (default) */\n",
       "\n",
       "#sk-container-id-1 div.sk-toggleable {\n",
       "  /* Default theme specific background. It is overwritten whether we have a\n",
       "  specific estimator or a Pipeline/ColumnTransformer */\n",
       "  background-color: var(--sklearn-color-background);\n",
       "}\n",
       "\n",
       "/* Toggleable label */\n",
       "#sk-container-id-1 label.sk-toggleable__label {\n",
       "  cursor: pointer;\n",
       "  display: block;\n",
       "  width: 100%;\n",
       "  margin-bottom: 0;\n",
       "  padding: 0.5em;\n",
       "  box-sizing: border-box;\n",
       "  text-align: center;\n",
       "}\n",
       "\n",
       "#sk-container-id-1 label.sk-toggleable__label-arrow:before {\n",
       "  /* Arrow on the left of the label */\n",
       "  content: \"▸\";\n",
       "  float: left;\n",
       "  margin-right: 0.25em;\n",
       "  color: var(--sklearn-color-icon);\n",
       "}\n",
       "\n",
       "#sk-container-id-1 label.sk-toggleable__label-arrow:hover:before {\n",
       "  color: var(--sklearn-color-text);\n",
       "}\n",
       "\n",
       "/* Toggleable content - dropdown */\n",
       "\n",
       "#sk-container-id-1 div.sk-toggleable__content {\n",
       "  max-height: 0;\n",
       "  max-width: 0;\n",
       "  overflow: hidden;\n",
       "  text-align: left;\n",
       "  /* unfitted */\n",
       "  background-color: var(--sklearn-color-unfitted-level-0);\n",
       "}\n",
       "\n",
       "#sk-container-id-1 div.sk-toggleable__content.fitted {\n",
       "  /* fitted */\n",
       "  background-color: var(--sklearn-color-fitted-level-0);\n",
       "}\n",
       "\n",
       "#sk-container-id-1 div.sk-toggleable__content pre {\n",
       "  margin: 0.2em;\n",
       "  border-radius: 0.25em;\n",
       "  color: var(--sklearn-color-text);\n",
       "  /* unfitted */\n",
       "  background-color: var(--sklearn-color-unfitted-level-0);\n",
       "}\n",
       "\n",
       "#sk-container-id-1 div.sk-toggleable__content.fitted pre {\n",
       "  /* unfitted */\n",
       "  background-color: var(--sklearn-color-fitted-level-0);\n",
       "}\n",
       "\n",
       "#sk-container-id-1 input.sk-toggleable__control:checked~div.sk-toggleable__content {\n",
       "  /* Expand drop-down */\n",
       "  max-height: 200px;\n",
       "  max-width: 100%;\n",
       "  overflow: auto;\n",
       "}\n",
       "\n",
       "#sk-container-id-1 input.sk-toggleable__control:checked~label.sk-toggleable__label-arrow:before {\n",
       "  content: \"▾\";\n",
       "}\n",
       "\n",
       "/* Pipeline/ColumnTransformer-specific style */\n",
       "\n",
       "#sk-container-id-1 div.sk-label input.sk-toggleable__control:checked~label.sk-toggleable__label {\n",
       "  color: var(--sklearn-color-text);\n",
       "  background-color: var(--sklearn-color-unfitted-level-2);\n",
       "}\n",
       "\n",
       "#sk-container-id-1 div.sk-label.fitted input.sk-toggleable__control:checked~label.sk-toggleable__label {\n",
       "  background-color: var(--sklearn-color-fitted-level-2);\n",
       "}\n",
       "\n",
       "/* Estimator-specific style */\n",
       "\n",
       "/* Colorize estimator box */\n",
       "#sk-container-id-1 div.sk-estimator input.sk-toggleable__control:checked~label.sk-toggleable__label {\n",
       "  /* unfitted */\n",
       "  background-color: var(--sklearn-color-unfitted-level-2);\n",
       "}\n",
       "\n",
       "#sk-container-id-1 div.sk-estimator.fitted input.sk-toggleable__control:checked~label.sk-toggleable__label {\n",
       "  /* fitted */\n",
       "  background-color: var(--sklearn-color-fitted-level-2);\n",
       "}\n",
       "\n",
       "#sk-container-id-1 div.sk-label label.sk-toggleable__label,\n",
       "#sk-container-id-1 div.sk-label label {\n",
       "  /* The background is the default theme color */\n",
       "  color: var(--sklearn-color-text-on-default-background);\n",
       "}\n",
       "\n",
       "/* On hover, darken the color of the background */\n",
       "#sk-container-id-1 div.sk-label:hover label.sk-toggleable__label {\n",
       "  color: var(--sklearn-color-text);\n",
       "  background-color: var(--sklearn-color-unfitted-level-2);\n",
       "}\n",
       "\n",
       "/* Label box, darken color on hover, fitted */\n",
       "#sk-container-id-1 div.sk-label.fitted:hover label.sk-toggleable__label.fitted {\n",
       "  color: var(--sklearn-color-text);\n",
       "  background-color: var(--sklearn-color-fitted-level-2);\n",
       "}\n",
       "\n",
       "/* Estimator label */\n",
       "\n",
       "#sk-container-id-1 div.sk-label label {\n",
       "  font-family: monospace;\n",
       "  font-weight: bold;\n",
       "  display: inline-block;\n",
       "  line-height: 1.2em;\n",
       "}\n",
       "\n",
       "#sk-container-id-1 div.sk-label-container {\n",
       "  text-align: center;\n",
       "}\n",
       "\n",
       "/* Estimator-specific */\n",
       "#sk-container-id-1 div.sk-estimator {\n",
       "  font-family: monospace;\n",
       "  border: 1px dotted var(--sklearn-color-border-box);\n",
       "  border-radius: 0.25em;\n",
       "  box-sizing: border-box;\n",
       "  margin-bottom: 0.5em;\n",
       "  /* unfitted */\n",
       "  background-color: var(--sklearn-color-unfitted-level-0);\n",
       "}\n",
       "\n",
       "#sk-container-id-1 div.sk-estimator.fitted {\n",
       "  /* fitted */\n",
       "  background-color: var(--sklearn-color-fitted-level-0);\n",
       "}\n",
       "\n",
       "/* on hover */\n",
       "#sk-container-id-1 div.sk-estimator:hover {\n",
       "  /* unfitted */\n",
       "  background-color: var(--sklearn-color-unfitted-level-2);\n",
       "}\n",
       "\n",
       "#sk-container-id-1 div.sk-estimator.fitted:hover {\n",
       "  /* fitted */\n",
       "  background-color: var(--sklearn-color-fitted-level-2);\n",
       "}\n",
       "\n",
       "/* Specification for estimator info (e.g. \"i\" and \"?\") */\n",
       "\n",
       "/* Common style for \"i\" and \"?\" */\n",
       "\n",
       ".sk-estimator-doc-link,\n",
       "a:link.sk-estimator-doc-link,\n",
       "a:visited.sk-estimator-doc-link {\n",
       "  float: right;\n",
       "  font-size: smaller;\n",
       "  line-height: 1em;\n",
       "  font-family: monospace;\n",
       "  background-color: var(--sklearn-color-background);\n",
       "  border-radius: 1em;\n",
       "  height: 1em;\n",
       "  width: 1em;\n",
       "  text-decoration: none !important;\n",
       "  margin-left: 1ex;\n",
       "  /* unfitted */\n",
       "  border: var(--sklearn-color-unfitted-level-1) 1pt solid;\n",
       "  color: var(--sklearn-color-unfitted-level-1);\n",
       "}\n",
       "\n",
       ".sk-estimator-doc-link.fitted,\n",
       "a:link.sk-estimator-doc-link.fitted,\n",
       "a:visited.sk-estimator-doc-link.fitted {\n",
       "  /* fitted */\n",
       "  border: var(--sklearn-color-fitted-level-1) 1pt solid;\n",
       "  color: var(--sklearn-color-fitted-level-1);\n",
       "}\n",
       "\n",
       "/* On hover */\n",
       "div.sk-estimator:hover .sk-estimator-doc-link:hover,\n",
       ".sk-estimator-doc-link:hover,\n",
       "div.sk-label-container:hover .sk-estimator-doc-link:hover,\n",
       ".sk-estimator-doc-link:hover {\n",
       "  /* unfitted */\n",
       "  background-color: var(--sklearn-color-unfitted-level-3);\n",
       "  color: var(--sklearn-color-background);\n",
       "  text-decoration: none;\n",
       "}\n",
       "\n",
       "div.sk-estimator.fitted:hover .sk-estimator-doc-link.fitted:hover,\n",
       ".sk-estimator-doc-link.fitted:hover,\n",
       "div.sk-label-container:hover .sk-estimator-doc-link.fitted:hover,\n",
       ".sk-estimator-doc-link.fitted:hover {\n",
       "  /* fitted */\n",
       "  background-color: var(--sklearn-color-fitted-level-3);\n",
       "  color: var(--sklearn-color-background);\n",
       "  text-decoration: none;\n",
       "}\n",
       "\n",
       "/* Span, style for the box shown on hovering the info icon */\n",
       ".sk-estimator-doc-link span {\n",
       "  display: none;\n",
       "  z-index: 9999;\n",
       "  position: relative;\n",
       "  font-weight: normal;\n",
       "  right: .2ex;\n",
       "  padding: .5ex;\n",
       "  margin: .5ex;\n",
       "  width: min-content;\n",
       "  min-width: 20ex;\n",
       "  max-width: 50ex;\n",
       "  color: var(--sklearn-color-text);\n",
       "  box-shadow: 2pt 2pt 4pt #999;\n",
       "  /* unfitted */\n",
       "  background: var(--sklearn-color-unfitted-level-0);\n",
       "  border: .5pt solid var(--sklearn-color-unfitted-level-3);\n",
       "}\n",
       "\n",
       ".sk-estimator-doc-link.fitted span {\n",
       "  /* fitted */\n",
       "  background: var(--sklearn-color-fitted-level-0);\n",
       "  border: var(--sklearn-color-fitted-level-3);\n",
       "}\n",
       "\n",
       ".sk-estimator-doc-link:hover span {\n",
       "  display: block;\n",
       "}\n",
       "\n",
       "/* \"?\"-specific style due to the `<a>` HTML tag */\n",
       "\n",
       "#sk-container-id-1 a.estimator_doc_link {\n",
       "  float: right;\n",
       "  font-size: 1rem;\n",
       "  line-height: 1em;\n",
       "  font-family: monospace;\n",
       "  background-color: var(--sklearn-color-background);\n",
       "  border-radius: 1rem;\n",
       "  height: 1rem;\n",
       "  width: 1rem;\n",
       "  text-decoration: none;\n",
       "  /* unfitted */\n",
       "  color: var(--sklearn-color-unfitted-level-1);\n",
       "  border: var(--sklearn-color-unfitted-level-1) 1pt solid;\n",
       "}\n",
       "\n",
       "#sk-container-id-1 a.estimator_doc_link.fitted {\n",
       "  /* fitted */\n",
       "  border: var(--sklearn-color-fitted-level-1) 1pt solid;\n",
       "  color: var(--sklearn-color-fitted-level-1);\n",
       "}\n",
       "\n",
       "/* On hover */\n",
       "#sk-container-id-1 a.estimator_doc_link:hover {\n",
       "  /* unfitted */\n",
       "  background-color: var(--sklearn-color-unfitted-level-3);\n",
       "  color: var(--sklearn-color-background);\n",
       "  text-decoration: none;\n",
       "}\n",
       "\n",
       "#sk-container-id-1 a.estimator_doc_link.fitted:hover {\n",
       "  /* fitted */\n",
       "  background-color: var(--sklearn-color-fitted-level-3);\n",
       "}\n",
       "</style><div id=\"sk-container-id-1\" class=\"sk-top-container\"><div class=\"sk-text-repr-fallback\"><pre>RandomForestClassifier(bootstrap=True, ccp_alpha=0.0, class_weight=None,\n",
       "                       criterion=&#x27;gini&#x27;, max_depth=None, max_features=&#x27;sqrt&#x27;,\n",
       "                       max_leaf_nodes=None, max_samples=None,\n",
       "                       min_impurity_decrease=0.0, min_samples_leaf=1,\n",
       "                       min_samples_split=2, min_weight_fraction_leaf=0.0,\n",
       "                       monotonic_cst=None, n_estimators=100, n_jobs=-1,\n",
       "                       oob_score=False, random_state=5217, verbose=0,\n",
       "                       warm_start=False)</pre><b>In a Jupyter environment, please rerun this cell to show the HTML representation or trust the notebook. <br />On GitHub, the HTML representation is unable to render, please try loading this page with nbviewer.org.</b></div><div class=\"sk-container\" hidden><div class=\"sk-item\"><div class=\"sk-estimator fitted sk-toggleable\"><input class=\"sk-toggleable__control sk-hidden--visually\" id=\"sk-estimator-id-1\" type=\"checkbox\" checked><label for=\"sk-estimator-id-1\" class=\"sk-toggleable__label fitted sk-toggleable__label-arrow fitted\">&nbsp;&nbsp;RandomForestClassifier<a class=\"sk-estimator-doc-link fitted\" rel=\"noreferrer\" target=\"_blank\" href=\"https://scikit-learn.org/1.4/modules/generated/sklearn.ensemble.RandomForestClassifier.html\">?<span>Documentation for RandomForestClassifier</span></a><span class=\"sk-estimator-doc-link fitted\">i<span>Fitted</span></span></label><div class=\"sk-toggleable__content fitted\"><pre>RandomForestClassifier(bootstrap=True, ccp_alpha=0.0, class_weight=None,\n",
       "                       criterion=&#x27;gini&#x27;, max_depth=None, max_features=&#x27;sqrt&#x27;,\n",
       "                       max_leaf_nodes=None, max_samples=None,\n",
       "                       min_impurity_decrease=0.0, min_samples_leaf=1,\n",
       "                       min_samples_split=2, min_weight_fraction_leaf=0.0,\n",
       "                       monotonic_cst=None, n_estimators=100, n_jobs=-1,\n",
       "                       oob_score=False, random_state=5217, verbose=0,\n",
       "                       warm_start=False)</pre></div> </div></div></div></div>"
      ],
      "text/plain": [
       "RandomForestClassifier(bootstrap=True, ccp_alpha=0.0, class_weight=None,\n",
       "                       criterion='gini', max_depth=None, max_features='sqrt',\n",
       "                       max_leaf_nodes=None, max_samples=None,\n",
       "                       min_impurity_decrease=0.0, min_samples_leaf=1,\n",
       "                       min_samples_split=2, min_weight_fraction_leaf=0.0,\n",
       "                       monotonic_cst=None, n_estimators=100, n_jobs=-1,\n",
       "                       oob_score=False, random_state=5217, verbose=0,\n",
       "                       warm_start=False)"
      ]
     },
     "execution_count": 38,
     "metadata": {},
     "output_type": "execute_result"
    }
   ],
   "source": [
    "best_model\n"
   ]
  },
  {
   "cell_type": "code",
   "execution_count": 39,
   "id": "df9f36cd-8781-41dd-be01-98abc8b3aadf",
   "metadata": {},
   "outputs": [
    {
     "name": "stdout",
     "output_type": "stream",
     "text": [
      "Fim.\n"
     ]
    }
   ],
   "source": [
    "print(\"Fim.\")"
   ]
  },
  {
   "cell_type": "code",
   "execution_count": 40,
   "id": "fe3fb209-91db-4a83-ab72-06bc921a6ac1",
   "metadata": {},
   "outputs": [
    {
     "name": "stdout",
     "output_type": "stream",
     "text": [
      "qui 05 dez 2024 17:30:34 -03\n"
     ]
    }
   ],
   "source": [
    "!date"
   ]
  },
  {
   "cell_type": "markdown",
   "id": "f70f1577-1549-4e26-b7f7-f6da11c07a47",
   "metadata": {},
   "source": [
    "## Teste do modelo com os dados de teste"
   ]
  },
  {
   "cell_type": "code",
   "execution_count": 41,
   "id": "fa916c09-bf3f-4e9a-8540-a2b61021c9b2",
   "metadata": {},
   "outputs": [
    {
     "data": {
      "text/html": [],
      "text/plain": [
       "<IPython.core.display.HTML object>"
      ]
     },
     "metadata": {},
     "output_type": "display_data"
    }
   ],
   "source": [
    "# Testa o modelo com os dados de teste\n",
    "from pycaret.classification import predict_model\n",
    "from pycaret.classification import plot_model\n",
    "from sklearn.metrics import confusion_matrix\n",
    "y_predict = predict_model(best_model, data=X_test)"
   ]
  },
  {
   "cell_type": "markdown",
   "id": "50665355-a7a3-471c-a664-3e468af35647",
   "metadata": {},
   "source": [
    "### Matriz de confusão"
   ]
  },
  {
   "cell_type": "code",
   "execution_count": 42,
   "id": "2f8a0d05-6e2a-4abc-923d-355bdc203880",
   "metadata": {},
   "outputs": [],
   "source": [
    "cm = confusion_matrix(y_test, y_predict['prediction_label'])"
   ]
  },
  {
   "cell_type": "code",
   "execution_count": 43,
   "id": "6bde4820-f1a4-4b8b-8225-0dd09eeabf13",
   "metadata": {},
   "outputs": [
    {
     "data": {
      "text/html": [
       "<div>\n",
       "<style scoped>\n",
       "    .dataframe tbody tr th:only-of-type {\n",
       "        vertical-align: middle;\n",
       "    }\n",
       "\n",
       "    .dataframe tbody tr th {\n",
       "        vertical-align: top;\n",
       "    }\n",
       "\n",
       "    .dataframe thead th {\n",
       "        text-align: right;\n",
       "    }\n",
       "</style>\n",
       "<table border=\"1\" class=\"dataframe\">\n",
       "  <thead>\n",
       "    <tr style=\"text-align: right;\">\n",
       "      <th></th>\n",
       "      <th>0</th>\n",
       "      <th>1</th>\n",
       "      <th>total</th>\n",
       "      <th>percent_0</th>\n",
       "      <th>percent_1</th>\n",
       "    </tr>\n",
       "  </thead>\n",
       "  <tbody>\n",
       "    <tr>\n",
       "      <th>0</th>\n",
       "      <td>80126</td>\n",
       "      <td>3763</td>\n",
       "      <td>83889</td>\n",
       "      <td>95.51</td>\n",
       "      <td>4.49</td>\n",
       "    </tr>\n",
       "    <tr>\n",
       "      <th>1</th>\n",
       "      <td>3468</td>\n",
       "      <td>1670</td>\n",
       "      <td>5138</td>\n",
       "      <td>67.50</td>\n",
       "      <td>32.50</td>\n",
       "    </tr>\n",
       "  </tbody>\n",
       "</table>\n",
       "</div>"
      ],
      "text/plain": [
       "       0     1  total  percent_0  percent_1\n",
       "0  80126  3763  83889      95.51       4.49\n",
       "1   3468  1670   5138      67.50      32.50"
      ]
     },
     "execution_count": 43,
     "metadata": {},
     "output_type": "execute_result"
    }
   ],
   "source": [
    "df_cm = pd.DataFrame(cm)\n",
    "df_cm['total'] = df_cm[0] + df_cm[1]\n",
    "df_cm['percent_0'] = df_cm[0] / df_cm['total'] * 100\n",
    "df_cm['percent_1'] = df_cm[1] / df_cm['total'] * 100\n",
    "df_cm.round(2)"
   ]
  },
  {
   "cell_type": "markdown",
   "id": "69ee6d66-f1a9-4c78-bba3-de9bb0df19b3",
   "metadata": {},
   "source": [
    "### Salvando o modelo"
   ]
  },
  {
   "cell_type": "code",
   "execution_count": 44,
   "id": "0df81db1-6f29-4a28-b582-82184b8eabbe",
   "metadata": {},
   "outputs": [],
   "source": [
    "from pycaret.classification import save_model\n",
    "from pycaret.classification import load_model"
   ]
  },
  {
   "cell_type": "code",
   "execution_count": 45,
   "id": "55b5c88f-b126-4b1e-b519-9225ff39c2de",
   "metadata": {},
   "outputs": [
    {
     "name": "stdout",
     "output_type": "stream",
     "text": [
      "Transformation Pipeline and Model Successfully Saved\n"
     ]
    },
    {
     "data": {
      "text/plain": [
       "(Pipeline(memory=Memory(location=None),\n",
       "          steps=[('numerical_imputer',\n",
       "                  TransformerWrapper(exclude=None,\n",
       "                                     include=['Sex', 'GeneralHealth',\n",
       "                                              'PhysicalHealthDays',\n",
       "                                              'MentalHealthDays',\n",
       "                                              'LastCheckupTime',\n",
       "                                              'PhysicalActivities', 'SleepHours',\n",
       "                                              'RemovedTeeth', 'HadAngina',\n",
       "                                              'HadStroke', 'HadAsthma',\n",
       "                                              'HadSkinCancer', 'HadCOPD',\n",
       "                                              'HadDepressiveDisorder',\n",
       "                                              'HadKidneyDisease', 'HadArthr...\n",
       "                  RandomForestClassifier(bootstrap=True, ccp_alpha=0.0,\n",
       "                                         class_weight=None, criterion='gini',\n",
       "                                         max_depth=None, max_features='sqrt',\n",
       "                                         max_leaf_nodes=None, max_samples=None,\n",
       "                                         min_impurity_decrease=0.0,\n",
       "                                         min_samples_leaf=1, min_samples_split=2,\n",
       "                                         min_weight_fraction_leaf=0.0,\n",
       "                                         monotonic_cst=None, n_estimators=100,\n",
       "                                         n_jobs=-1, oob_score=False,\n",
       "                                         random_state=5217, verbose=0,\n",
       "                                         warm_start=False))],\n",
       "          verbose=False),\n",
       " 'model_TB/best_model.pkl')"
      ]
     },
     "execution_count": 45,
     "metadata": {},
     "output_type": "execute_result"
    }
   ],
   "source": [
    "#Salvando o modelo\n",
    "\n",
    "save_model(best_model, f'{dir_model}/best_model')"
   ]
  },
  {
   "cell_type": "code",
   "execution_count": 46,
   "id": "da40b485-53ba-4937-bdc7-25f317ea1af2",
   "metadata": {},
   "outputs": [
    {
     "name": "stdout",
     "output_type": "stream",
     "text": [
      "Transformation Pipeline and Model Successfully Loaded\n",
      "Pipeline(memory=FastMemory(location=/tmp/joblib),\n",
      "         steps=[('numerical_imputer',\n",
      "                 TransformerWrapper(exclude=None,\n",
      "                                    include=['Sex', 'GeneralHealth',\n",
      "                                             'PhysicalHealthDays',\n",
      "                                             'MentalHealthDays',\n",
      "                                             'LastCheckupTime',\n",
      "                                             'PhysicalActivities', 'SleepHours',\n",
      "                                             'RemovedTeeth', 'HadAngina',\n",
      "                                             'HadStroke', 'HadAsthma',\n",
      "                                             'HadSkinCancer', 'HadCOPD',\n",
      "                                             'HadDepressiveDisorder',\n",
      "                                             'HadKidneyDisease...\n",
      "                 RandomForestClassifier(bootstrap=True, ccp_alpha=0.0,\n",
      "                                        class_weight=None, criterion='gini',\n",
      "                                        max_depth=None, max_features='sqrt',\n",
      "                                        max_leaf_nodes=None, max_samples=None,\n",
      "                                        min_impurity_decrease=0.0,\n",
      "                                        min_samples_leaf=1, min_samples_split=2,\n",
      "                                        min_weight_fraction_leaf=0.0,\n",
      "                                        monotonic_cst=None, n_estimators=100,\n",
      "                                        n_jobs=-1, oob_score=False,\n",
      "                                        random_state=5217, verbose=0,\n",
      "                                        warm_start=False))],\n",
      "         verbose=False)\n"
     ]
    }
   ],
   "source": [
    "# functional API\n",
    "loaded_model = load_model(f'{dir_model}/best_model')\n",
    "print(loaded_model)"
   ]
  },
  {
   "cell_type": "markdown",
   "id": "b07fa111-2c97-4fd5-bd8b-3428025005f8",
   "metadata": {},
   "source": [
    "## Feature importance"
   ]
  },
  {
   "cell_type": "code",
   "execution_count": 47,
   "id": "1a87989b-a700-42e5-beb5-ce95d53bac7d",
   "metadata": {},
   "outputs": [
    {
     "data": {
      "text/html": [],
      "text/plain": [
       "<IPython.core.display.HTML object>"
      ]
     },
     "metadata": {},
     "output_type": "display_data"
    },
    {
     "data": {
      "image/png": "[encoded data removed]",
      "text/plain": [
       "<Figure size 800x500 with 1 Axes>"
      ]
     },
     "metadata": {},
     "output_type": "display_data"
    }
   ],
   "source": [
    "plot_model(best_model, plot='feature')"
   ]
  },
  {
   "cell_type": "code",
   "execution_count": null,
   "id": "ae81e5bb-2fd1-4805-aedd-c10a016fc707",
   "metadata": {},
   "outputs": [],
   "source": []
  }
 ],
 "metadata": {
  "jupytext": {
   "formats": "ipynb,py:percent"
  },
  "kernelspec": {
   "display_name": "Python 3 (ipykernel)",
   "language": "python",
   "name": "python3"
  },
  "language_info": {
   "codemirror_mode": {
    "name": "ipython",
    "version": 3
   },
   "file_extension": ".py",
   "mimetype": "text/x-python",
   "name": "python",
   "nbconvert_exporter": "python",
   "pygments_lexer": "ipython3",
   "version": "3.9.12"
  }
 },
 "nbformat": 4,
 "nbformat_minor": 5
}
