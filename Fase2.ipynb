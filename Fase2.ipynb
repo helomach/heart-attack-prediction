{
 "cells": [
  {
   "cell_type": "markdown",
   "id": "9c53d4b2-57a8-4355-b628-575234017084",
   "metadata": {},
   "source": [
    "# Fase 2: Divisão dos Dados\n",
    "Este arquivo realiza a **divisão dos dados**, preparando-os para as fases subsequentes de modelagem e treinamento dos algoritmos de aprendizado de máquina. Abaixo está um resumo das principais etapas e funcionalidades implementadas nesta fase.\n",
    "\n",
    "## Etapas da Divisão dos Dados\n",
    "\n",
    "### 1. Importação das Bibliotecas\n",
    "As bibliotecas necessárias para a criação e avaliação dos modelos são importadas, como:\n",
    "- `pandas` para manipulação de dados\n",
    "- `sklearn.model_selection` para a função train_test_split, que realiza a divisão dos dados\n",
    "\n",
    "### 2. Definição das Variáveis Independentes e Dependentes\n",
    "As variáveis são definidas para a divisão:\n",
    "\n",
    "- `X`: Contém as variáveis independentes, ou seja, todas as colunas exceto a variável alvo.\n",
    "- `y`: Contém a variável dependente, que neste caso é a coluna que indica se houve um ataque cardíaco `HadHeartAttack`.\n",
    "\n",
    "### 3. Divisão dos Dados\n",
    " Os dados são divididos em conjuntos de treino e teste para avaliar o desempenho dos modelos. Esta divisão é realizada utilizando a função `train_test_split` do sklearn.\n",
    "\n",
    "- `Treino (X_train, y_train)`: Usado para treinar os modelos.\n",
    "- `Teste (X_test, y_test)`: Usado para avaliar a performance do modelo."
   ]
  },
  {
   "cell_type": "code",
   "execution_count": 17,
   "id": "4883f0b3-3f03-42e1-9c30-29e305d850f1",
   "metadata": {},
   "outputs": [],
   "source": [
    "import pandas as pd\n",
    "from sklearn.model_selection import train_test_split\n",
    "import joblib\n",
    "import seaborn as sns\n",
    "import matplotlib.pyplot as plt"
   ]
  },
  {
   "cell_type": "code",
   "execution_count": 6,
   "id": "6e06c977-3518-4bd4-850c-280270896b85",
   "metadata": {},
   "outputs": [],
   "source": [
    "data = pd.read_csv('C:/Users/heloi/tcc/processed_data.csv')"
   ]
  },
  {
   "cell_type": "code",
   "execution_count": 7,
   "id": "0a899092-3bb0-49cd-94e0-245dde00c921",
   "metadata": {},
   "outputs": [
    {
     "data": {
      "text/html": [
       "<div>\n",
       "<style scoped>\n",
       "    .dataframe tbody tr th:only-of-type {\n",
       "        vertical-align: middle;\n",
       "    }\n",
       "\n",
       "    .dataframe tbody tr th {\n",
       "        vertical-align: top;\n",
       "    }\n",
       "\n",
       "    .dataframe thead th {\n",
       "        text-align: right;\n",
       "    }\n",
       "</style>\n",
       "<table border=\"1\" class=\"dataframe\">\n",
       "  <thead>\n",
       "    <tr style=\"text-align: right;\">\n",
       "      <th></th>\n",
       "      <th>Sex</th>\n",
       "      <th>GeneralHealth</th>\n",
       "      <th>PhysicalHealthDays</th>\n",
       "      <th>MentalHealthDays</th>\n",
       "      <th>LastCheckupTime</th>\n",
       "      <th>PhysicalActivities</th>\n",
       "      <th>SleepHours</th>\n",
       "      <th>RemovedTeeth</th>\n",
       "      <th>HadHeartAttack</th>\n",
       "      <th>HadAngina</th>\n",
       "      <th>...</th>\n",
       "      <th>ECigaretteUsage_Use them some days</th>\n",
       "      <th>RaceEthnicityCategory_Hispanic</th>\n",
       "      <th>RaceEthnicityCategory_Multiracial, Non-Hispanic</th>\n",
       "      <th>RaceEthnicityCategory_Other race only, Non-Hispanic</th>\n",
       "      <th>RaceEthnicityCategory_White only, Non-Hispanic</th>\n",
       "      <th>CovidPos_Tested positive using home test without a health professional</th>\n",
       "      <th>CovidPos_Yes</th>\n",
       "      <th>HadDiabetes_No, pre-diabetes or borderline diabetes</th>\n",
       "      <th>HadDiabetes_Yes</th>\n",
       "      <th>HadDiabetes_Yes, but only during pregnancy (female)</th>\n",
       "    </tr>\n",
       "  </thead>\n",
       "  <tbody>\n",
       "    <tr>\n",
       "      <th>0</th>\n",
       "      <td>1</td>\n",
       "      <td>4</td>\n",
       "      <td>0.0</td>\n",
       "      <td>0.0</td>\n",
       "      <td>0</td>\n",
       "      <td>0</td>\n",
       "      <td>8.0</td>\n",
       "      <td>0</td>\n",
       "      <td>0</td>\n",
       "      <td>0</td>\n",
       "      <td>...</td>\n",
       "      <td>0</td>\n",
       "      <td>0</td>\n",
       "      <td>0</td>\n",
       "      <td>0</td>\n",
       "      <td>1</td>\n",
       "      <td>0</td>\n",
       "      <td>0</td>\n",
       "      <td>0</td>\n",
       "      <td>1</td>\n",
       "      <td>0</td>\n",
       "    </tr>\n",
       "    <tr>\n",
       "      <th>1</th>\n",
       "      <td>1</td>\n",
       "      <td>5</td>\n",
       "      <td>0.0</td>\n",
       "      <td>0.0</td>\n",
       "      <td>0</td>\n",
       "      <td>0</td>\n",
       "      <td>6.0</td>\n",
       "      <td>0</td>\n",
       "      <td>0</td>\n",
       "      <td>0</td>\n",
       "      <td>...</td>\n",
       "      <td>0</td>\n",
       "      <td>0</td>\n",
       "      <td>0</td>\n",
       "      <td>0</td>\n",
       "      <td>1</td>\n",
       "      <td>0</td>\n",
       "      <td>0</td>\n",
       "      <td>0</td>\n",
       "      <td>0</td>\n",
       "      <td>0</td>\n",
       "    </tr>\n",
       "    <tr>\n",
       "      <th>2</th>\n",
       "      <td>1</td>\n",
       "      <td>4</td>\n",
       "      <td>2.0</td>\n",
       "      <td>3.0</td>\n",
       "      <td>0</td>\n",
       "      <td>1</td>\n",
       "      <td>5.0</td>\n",
       "      <td>0</td>\n",
       "      <td>0</td>\n",
       "      <td>0</td>\n",
       "      <td>...</td>\n",
       "      <td>0</td>\n",
       "      <td>0</td>\n",
       "      <td>0</td>\n",
       "      <td>0</td>\n",
       "      <td>1</td>\n",
       "      <td>0</td>\n",
       "      <td>1</td>\n",
       "      <td>0</td>\n",
       "      <td>0</td>\n",
       "      <td>0</td>\n",
       "    </tr>\n",
       "    <tr>\n",
       "      <th>3</th>\n",
       "      <td>1</td>\n",
       "      <td>5</td>\n",
       "      <td>0.0</td>\n",
       "      <td>0.0</td>\n",
       "      <td>0</td>\n",
       "      <td>1</td>\n",
       "      <td>7.0</td>\n",
       "      <td>0</td>\n",
       "      <td>0</td>\n",
       "      <td>0</td>\n",
       "      <td>...</td>\n",
       "      <td>0</td>\n",
       "      <td>0</td>\n",
       "      <td>0</td>\n",
       "      <td>0</td>\n",
       "      <td>1</td>\n",
       "      <td>0</td>\n",
       "      <td>0</td>\n",
       "      <td>0</td>\n",
       "      <td>0</td>\n",
       "      <td>0</td>\n",
       "    </tr>\n",
       "    <tr>\n",
       "      <th>4</th>\n",
       "      <td>1</td>\n",
       "      <td>2</td>\n",
       "      <td>2.0</td>\n",
       "      <td>0.0</td>\n",
       "      <td>0</td>\n",
       "      <td>1</td>\n",
       "      <td>9.0</td>\n",
       "      <td>0</td>\n",
       "      <td>0</td>\n",
       "      <td>0</td>\n",
       "      <td>...</td>\n",
       "      <td>0</td>\n",
       "      <td>0</td>\n",
       "      <td>0</td>\n",
       "      <td>0</td>\n",
       "      <td>1</td>\n",
       "      <td>0</td>\n",
       "      <td>0</td>\n",
       "      <td>0</td>\n",
       "      <td>0</td>\n",
       "      <td>0</td>\n",
       "    </tr>\n",
       "  </tbody>\n",
       "</table>\n",
       "<p>5 rows × 49 columns</p>\n",
       "</div>"
      ],
      "text/plain": [
       "   Sex  GeneralHealth  PhysicalHealthDays  MentalHealthDays  LastCheckupTime  \\\n",
       "0    1              4                 0.0               0.0                0   \n",
       "1    1              5                 0.0               0.0                0   \n",
       "2    1              4                 2.0               3.0                0   \n",
       "3    1              5                 0.0               0.0                0   \n",
       "4    1              2                 2.0               0.0                0   \n",
       "\n",
       "   PhysicalActivities  SleepHours  RemovedTeeth  HadHeartAttack  HadAngina  \\\n",
       "0                   0         8.0             0               0          0   \n",
       "1                   0         6.0             0               0          0   \n",
       "2                   1         5.0             0               0          0   \n",
       "3                   1         7.0             0               0          0   \n",
       "4                   1         9.0             0               0          0   \n",
       "\n",
       "   ...  ECigaretteUsage_Use them some days  RaceEthnicityCategory_Hispanic  \\\n",
       "0  ...                                   0                               0   \n",
       "1  ...                                   0                               0   \n",
       "2  ...                                   0                               0   \n",
       "3  ...                                   0                               0   \n",
       "4  ...                                   0                               0   \n",
       "\n",
       "   RaceEthnicityCategory_Multiracial, Non-Hispanic  \\\n",
       "0                                                0   \n",
       "1                                                0   \n",
       "2                                                0   \n",
       "3                                                0   \n",
       "4                                                0   \n",
       "\n",
       "   RaceEthnicityCategory_Other race only, Non-Hispanic  \\\n",
       "0                                                  0     \n",
       "1                                                  0     \n",
       "2                                                  0     \n",
       "3                                                  0     \n",
       "4                                                  0     \n",
       "\n",
       "   RaceEthnicityCategory_White only, Non-Hispanic  \\\n",
       "0                                               1   \n",
       "1                                               1   \n",
       "2                                               1   \n",
       "3                                               1   \n",
       "4                                               1   \n",
       "\n",
       "   CovidPos_Tested positive using home test without a health professional  \\\n",
       "0                                                  0                        \n",
       "1                                                  0                        \n",
       "2                                                  0                        \n",
       "3                                                  0                        \n",
       "4                                                  0                        \n",
       "\n",
       "   CovidPos_Yes  HadDiabetes_No, pre-diabetes or borderline diabetes  \\\n",
       "0             0                                                  0     \n",
       "1             0                                                  0     \n",
       "2             1                                                  0     \n",
       "3             0                                                  0     \n",
       "4             0                                                  0     \n",
       "\n",
       "   HadDiabetes_Yes  HadDiabetes_Yes, but only during pregnancy (female)  \n",
       "0                1                                                  0    \n",
       "1                0                                                  0    \n",
       "2                0                                                  0    \n",
       "3                0                                                  0    \n",
       "4                0                                                  0    \n",
       "\n",
       "[5 rows x 49 columns]"
      ]
     },
     "execution_count": 7,
     "metadata": {},
     "output_type": "execute_result"
    }
   ],
   "source": [
    "data.head()"
   ]
  },
  {
   "cell_type": "code",
   "execution_count": 8,
   "id": "2814e7fa-e6bb-4928-ba8d-89f0470d880e",
   "metadata": {},
   "outputs": [],
   "source": [
    "# Definir as variáveis independentes (X) e dependentes (y)\n",
    "X = data.drop(columns=['HadHeartAttack'])  # Todas as colunas exceto a variável alvo\n",
    "y = data['HadHeartAttack']  # A variável alvo"
   ]
  },
  {
   "cell_type": "code",
   "execution_count": 9,
   "id": "6564dd94-a208-4986-80c7-1fda614dc988",
   "metadata": {},
   "outputs": [],
   "source": [
    "# Dividir os dados em conjunto de treino e teste\n",
    "X_train, X_test, y_train, y_test = train_test_split(X, y, test_size=0.2, random_state=42)"
   ]
  },
  {
   "cell_type": "code",
   "execution_count": 10,
   "id": "d8f69259-61b0-4bbe-a9f3-e192230d0e60",
   "metadata": {},
   "outputs": [
    {
     "name": "stdout",
     "output_type": "stream",
     "text": [
      "Treinamento: (356105, 48), (356105,)\n",
      "Teste: (89027, 48), (89027,)\n"
     ]
    }
   ],
   "source": [
    "# Exibir as formas dos conjuntos resultantes\n",
    "print(f'Treinamento: {X_train.shape}, {y_train.shape}')\n",
    "print(f'Teste: {X_test.shape}, {y_test.shape}')"
   ]
  },
  {
   "cell_type": "code",
   "execution_count": 12,
   "id": "fb27a9cb-22ee-4e75-ad4a-ddedcdafd5fd",
   "metadata": {},
   "outputs": [
    {
     "name": "stdout",
     "output_type": "stream",
     "text": [
      "Dados divididos salvos em data_splits.pkl\n"
     ]
    }
   ],
   "source": [
    "# Salvar os dados divididos\n",
    "joblib.dump((X_train, X_test, y_train, y_test), 'data/data_splits.pkl')\n",
    "print(\"Dados divididos salvos em data_splits.pkl\")"
   ]
  },
  {
   "cell_type": "code",
   "execution_count": 13,
   "id": "41366f3c-4b25-4c66-bbf9-62f5dc7b56d2",
   "metadata": {},
   "outputs": [
    {
     "name": "stdout",
     "output_type": "stream",
     "text": [
      "Dados de teste salvos em data_test.pkl\n"
     ]
    }
   ],
   "source": [
    "# Salvar os dados de teste no Google Drive\n",
    "joblib.dump((X_test, y_test), 'data/data_test.pkl')\n",
    "print(\"Dados de teste salvos em data_test.pkl\")"
   ]
  },
  {
   "cell_type": "code",
   "execution_count": 18,
   "id": "9faad1fe-ca18-4c11-bd3b-64c23c1442b6",
   "metadata": {},
   "outputs": [
    {
     "data": {
      "image/png": "[encoded data removed]",
      "text/plain": [
       "<Figure size 640x480 with 1 Axes>"
      ]
     },
     "metadata": {},
     "output_type": "display_data"
    },
    {
     "name": "stdout",
     "output_type": "stream",
     "text": [
      "HadHeartAttack\n",
      "0    0.943921\n",
      "1    0.056079\n",
      "Name: proportion, dtype: float64\n"
     ]
    }
   ],
   "source": [
    "sns.countplot(x=y_train)\n",
    "plt.show()\n",
    "\n",
    "# Ver proporção das classes\n",
    "print(y_train.value_counts(normalize=True))"
   ]
  }
 ],
 "metadata": {
  "jupytext": {
   "formats": "ipynb,auto:percent"
  },
  "kernelspec": {
   "display_name": "Python 3 (ipykernel)",
   "language": "python",
   "name": "python3"
  },
  "language_info": {
   "codemirror_mode": {
    "name": "ipython",
    "version": 3
   },
   "file_extension": ".py",
   "mimetype": "text/x-python",
   "name": "python",
   "nbconvert_exporter": "python",
   "pygments_lexer": "ipython3",
   "version": "3.11.6"
  }
 },
 "nbformat": 4,
 "nbformat_minor": 5
}
