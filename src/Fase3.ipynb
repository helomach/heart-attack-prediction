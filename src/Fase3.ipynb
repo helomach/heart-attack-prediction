{
 "cells": [
  {
   "cell_type": "markdown",
   "id": "c2c33d7f-58e1-41bf-90b2-269b0160904e",
   "metadata": {},
   "source": [
    "# Fase 3 - Balanceamento dos Dados\n",
    "\n",
    "Este arquivo implementa o balanceamento das classes da variável-alvo para evitar que o modelo de aprendizado de máquina se torne enviesado para a classe majoritária. Para isso, foi utilizado o SMOTE (Synthetic Minority Over-sampling Technique), uma técnica que cria amostras sintéticas da classe minoritária, equilibrando assim a distribuição das classes no conjunto de dados.\n",
    "\n",
    "## Etapas do Balanceamento dos Dados\n",
    "\n",
    "### 1. **Carregamento dos Dados**  \n",
    "O conjunto de dados de treino é carregado a partir do arquivo salvo na fase anterior, possibilitando a continuação do fluxo de preparação.\n",
    "\n",
    "### 2. **Aplicação do SMOTE para Balanceamento das Classes**\n",
    "Foi utilizado o SMOTE para gerar amostras sintéticas da classe minoritária no conjunto de treino. Essa técnica ajuda a balancear as classes, evitando que o modelo aprenda de forma enviesada para a classe mais frequente\n",
    "\n",
    "### 3. **Verificação das Proporções das Classes**\n",
    "Após a aplicação do SMOTE, foi exibido as novas proporções das classes no conjunto de dados de treino para confirmar o balanceamento\n",
    "\n",
    "### 4. Salvamento dos Dados Balanceados\n",
    "Por fim, os dados balanceados são salvos em um arquivo para serem utilizados na próxima fase de treinamento e teste dos modelos."
   ]
  },
  {
   "cell_type": "code",
   "execution_count": null,
   "id": "8fa53dcf-c2b7-4f03-8b8d-e2ac12c8caa9",
   "metadata": {},
   "outputs": [],
   "source": [
    "import pandas as pd\n",
    "from imblearn.over_sampling import SMOTE\n",
    "import joblib"
   ]
  },
  {
   "cell_type": "code",
   "execution_count": null,
   "id": "853b09e8-8949-4720-8960-3a87db612d88",
   "metadata": {},
   "outputs": [],
   "source": [
    "# Carregar os dados de treino e teste\n",
    "X_train, X_test, y_train, y_test = joblib.load('../data/Fase2-output_data_splits.pkl')\n",
    "\n",
    "# Aplicar SMOTE\n",
    "smote = SMOTE(random_state=42)\n",
    "X_resampled, y_resampled = smote.fit_resample(X_train, y_train)\n",
    "\n",
    "# Exibir as novas proporções\n",
    "print(\"Proporções após SMOTE:\")\n",
    "print(y_resampled.value_counts(normalize=True))\n",
    "\n",
    "# Salvar os dados reamostrados\n",
    "joblib.dump((X_resampled, y_resampled), '../data/Fase3-output_data_resampled.pkl')"
   ]
  }
 ],
 "metadata": {
  "jupytext": {
   "formats": "ipynb,py:percent"
  },
  "kernelspec": {
   "display_name": "Python 3 (ipykernel)",
   "language": "python",
   "name": "python3"
  },
  "language_info": {
   "codemirror_mode": {
    "name": "ipython",
    "version": 3
   },
   "file_extension": ".py",
   "mimetype": "text/x-python",
   "name": "python",
   "nbconvert_exporter": "python",
   "pygments_lexer": "ipython3",
   "version": "3.12.3"
  }
 },
 "nbformat": 4,
 "nbformat_minor": 5
}
